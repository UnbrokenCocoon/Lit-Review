{
  "cells": [
    {
      "cell_type": "code",
      "execution_count": 1,
      "metadata": {
        "colab": {
          "base_uri": "https://localhost:8080/"
        },
        "id": "WpzwRWuD69Hn",
        "outputId": "fdc13a35-2dbc-4a23-b416-3ffa8fc7172e"
      },
      "outputs": [
        {
          "output_type": "stream",
          "name": "stdout",
          "text": [
            "Mounted at /content/drive\n"
          ]
        }
      ],
      "source": [
        "from google.colab import drive\n",
        "drive.mount('/content/drive')"
      ]
    },
    {
      "cell_type": "code",
      "execution_count": 2,
      "metadata": {
        "id": "WtkIpZpSHFOY"
      },
      "outputs": [],
      "source": [
        "import pandas as pd\n",
        "total_df = pd.read_csv('/content/drive/MyDrive/df/all_texts.csv')\n",
        "\n",
        "\n"
      ]
    },
    {
      "source": [
        "df_cl = total_df.copy()\n",
        "df_cl = df_cl.drop_duplicates(subset=['text'], keep='first')\n",
        "df_cl.dropna(subset=['text'], inplace=True)"
      ],
      "cell_type": "code",
      "metadata": {
        "colab": {
          "base_uri": "https://localhost:8080/"
        },
        "id": "_ERVuaHbLWTr",
        "outputId": "c534a5c3-a511-462f-fef6-810c4d34612c"
      },
      "execution_count": 7,
      "outputs": [
        {
          "output_type": "stream",
          "name": "stderr",
          "text": [
            "<ipython-input-7-6c0025ddd2ad>:3: SettingWithCopyWarning: \n",
            "A value is trying to be set on a copy of a slice from a DataFrame\n",
            "\n",
            "See the caveats in the documentation: https://pandas.pydata.org/pandas-docs/stable/user_guide/indexing.html#returning-a-view-versus-a-copy\n",
            "  df_cl.dropna(subset=['text'], inplace=True)\n"
          ]
        }
      ]
    },
    {
      "cell_type": "code",
      "execution_count": 8,
      "metadata": {
        "colab": {
          "base_uri": "https://localhost:8080/"
        },
        "id": "IGrKQ2aClmqu",
        "outputId": "853fe6ab-3889-4276-fef8-bf12a3fa93f3"
      },
      "outputs": [
        {
          "output_type": "stream",
          "name": "stdout",
          "text": [
            "1242\n"
          ]
        }
      ],
      "source": [
        "# Choose a term or list of terms to reduce your database on\n",
        "# This ensures that you are running counts of an manageable set\n",
        "batch = []\n",
        "\n",
        "#searcher = [\"trade union\", \"industrial union\", \"labour union\", \"community union\", \"labor union\"]\n",
        "searcher = [\"community\"]\n",
        "for i in range(len(df_cl.index)):\n",
        "  # Iterate through each search term in the searcher list\n",
        "  for term in searcher:\n",
        "    # Check if the current search term is in the lower-cased text.\n",
        "    if term in str(df_cl['text'].iloc[i]).lower():\n",
        "      batch.append(df_cl['file'].iloc[i])\n",
        "\n",
        "\n",
        "batch = list(dict.fromkeys(batch))\n",
        "print(len(batch))"
      ]
    },
    {
      "cell_type": "code",
      "source": [
        "# Optional, inspect the files\n",
        "for file in batch:\n",
        "  print(file)"
      ],
      "metadata": {
        "colab": {
          "base_uri": "https://localhost:8080/"
        },
        "id": "rr7HweW-Ar-t",
        "outputId": "3590877d-bfc9-4834-b986-5e03b05f5cea"
      },
      "execution_count": null,
      "outputs": [
        {
          "output_type": "stream",
          "name": "stdout",
          "text": [
            "Social_Movement_Unionism_or_Trade_Unions.pdf\n",
            "Social_Movement_Unionism_Questions_and_P.pdf\n",
            "document.pdf\n",
            "<DirEntry 'yousfi-2021-organization-and-organizing-in-revolutionary-times-the-case-of-tunisian-general-labor-union.pdf'>\n",
            "<DirEntry 'Wells-UrbanPolicyBecomes-2002.pdf'>\n",
            "<DirEntry 'Locating Localism_ Statecraft, Citizenship and Democracy -- Jane Wills -- 2016 -- Policy Press -- 9781447323068 -- 467e88660f4d3717044983d1dc572112 -- Anna’s Archive.pdf'>\n",
            "<DirEntry 'Institutions, production, and working life -- Wood, Geoffrey Edward; James, Philip -- 2006 -- Oxford ; New York_ Oxford University Press -- 9780199291779 -- 092c2c0e528490606ff22d65d2482846 -- Anna’s Ar.pdf'>\n",
            "<DirEntry 'Working Life_ Renewing Labour Process Analysis -- Paul Thompson, Chris Smith (ed.) -- Critical  Perspectives  on  Work  and  Employment, 2010 -- 9780230222236 -- 78ce8355283096072d50874d34d32408 -- Anna.pdf'>\n",
            "<DirEntry '[American Ethnologist 2009-nov 06 vol. 36 iss. 4] MASSIMILIANO MOLLONA - Community unionism versus business unionism_ The return of the moral economy in trade union studies (2009) [10.1111_j.1548-1425.2009.pdf'>\n",
            "<DirEntry '[American Journal of Sociology 2000-sep vol. 106 iss. 2] Voss, Kim _Sherman, Rachel - Breaking the Iron Law of Oligarchy_ Union Revitalization in the American Labor Movement (2000) [10.1086_316963] - libge.pdf'>\n",
            "<DirEntry '[British Journal of Industrial Relations 2010-apr 14 vol. 48 iss. 2] Maite Tapia - Community Unionism. A Comparative Analysis of Concepts and Contexts – Edited by Jo McBride and Ian Greenwood (2010) [10.11.pdf'>\n",
            "<DirEntry '[Economic and Industrial Democracy 2014-jun 18 vol. 37 iss. 1] Alberti, G. - Moving beyond the dichotomy of workplace and community unionism_ The challenges of organising migrant workers in Londons hotels .pdf'>\n",
            "<DirEntry '[European Journal of Industrial Relations 2018-jan 22 vol. 25 iss. 1] Nicklich, Manuel_ Helfen, Markus - Trade union renewal and ‘organizing from below’ in Germany_ Institutional constraints, strategic dil.pdf'>\n",
            "<DirEntry '[International Comparative Social Studies] Emma Martin-Diaz, Beltran Roca - Migrant Organising_ Community Unionism, Solidarity and Bricolage (2021, BRILL) - libgen.li.pdf'>\n",
            "<DirEntry '[International Journal of Urban and Regional Research 2008-may 14 vol. 32 iss. 2] JANE WILLS - Making Class Politics Possible_ Organizing Contract Cleaners in London (2008) [10.1111_j.1468-2427.2008.00783..pdf'>\n",
            "<DirEntry '[Labor Studies Journal vol. 27 iss. 1] Taylor, Graham (Graham John)_ Mathers, Andrew - Social Partner or Social Movement_ European Integration and Trade Union Renewal in Europe (2002) [10.1353_lab.2002.000.pdf'>\n",
            "<DirEntry '[Relations industrielles 2005-sum vol. 60 iss. 3] Peter Fairbrother and Nikolaus Hammer - Global Unions_ Past Efforts and Future Prospects (2005) [10.2307_23077740] - libgen.li.pdf'>\n",
            "<DirEntry '[Routledge research in employment relations, 20] Gary Daniels_ John McIlroy - Trade unions in a neoliberal world _ [British trade unions under New Labour] (2009, Routledge) - libgen.li.pdf'>\n",
            "<DirEntry '[Routledge Studies in the Management of Voluntary and Non-Profit Organizations] Ian Cunningham, Philip James - Voluntary Organizations and Public Service Delivery (2011, Routledge) - libgen.li.pdf'>\n",
            "<DirEntry '[The Economic and Labour Relations Review 2015-oct 27 vol. 26 iss. 4] Heery, E. - Unions and the organising turn_ Reflections after 20 years of Organising Works (2015) [10.1177_1035304615613281] - libgen.l.pdf'>\n",
            "<DirEntry '[The Journal of Industrial Relations 2017-aug 04 vol. 59 iss. 4] Schmalz, Stefan_ Thiel, Marcel - IG Metall’s comeback_ Trade union renewal in times of crisis (2017) [10.1177_0022185617714818] - libgen.li.pdf'>\n",
            "<DirEntry '[Transactions of the Institute of British Geographers vol. 26 iss. 4] Jane Wills - Community Unionism and Trade Union Renewal in the UK_ Moving beyond the Fragments at Last_ (2001) [10.2307_3650661] - libg.pdf'>\n",
            "<DirEntry '[Transformation Critical Perspectives on Southern Africa vol. 72 iss. 1] T Dunbar Moodie, - Becoming a social movement union_ Cyril Ramaphosa and the National Union of Mineworkers (2010) [10.1353_trn.0.006.pdf'>\n",
            "<DirEntry '[Work Employment & Society 2005-mar vol. 19 iss. 1] Heery, E. - Sources of change in trade unions (2005) [10.1177_0950017005051295] - libgen.li.pdf'>\n",
            "<DirEntry '[Work Employment & Society 2012-feb 17 vol. 26 iss. 1] Heery, E._ Williams, S._ Abbott, B. - Civil society organizations and trade unions_ cooperation, conflict, indifference (2012) [10.1177_09500170114263.pdf'>\n",
            "<DirEntry '[Work Employment & Society 2012-oct 12 vol. 26 iss. 5] Upchurch, M._ Croucher, R._ Flynn, M. - Political Congruence and Trade Union Renewal (2012) [10.1177_0950017012451643] - libgen.li.pdf'>\n",
            "<DirEntry 'fiorito-padavic-2020-what-do-workers-and-the-public-want-unions-social-value.pdf'>\n",
            "<DirEntry 'foster-2017-accidental-revitalization-looking-at-the-complex-realities-of-union-renewal.pdf'>\n",
            "<DirEntry 'Fusion+or+Replacement+Prepub+Version.pdf'>\n",
            "<DirEntry 'Industrial relations and the wider society_ aspects of -- Barrett, Brian -- 1975 -- London_ Collier Macmillan [for] the Open University Press -- 9780029724408 -- c300d0892158446e58c0009b83b82a10 -- Anna.pdf'>\n",
            "<DirEntry 'Industrial Work and Life_ An Anthropological Reader -- Massimiliano Mollona (editor), Geert De Neve (editor), -- London School of Economics Monographs -- 9781847880765 -- f8232277ec2bca6a42c1502c85370a5.pdf'>\n",
            "<DirEntry 'IRES.pdf'>\n",
            "<DirEntry 'Johnstone and Ackers Finding_a_Voice_at_Work_New_Perspectives_on_Employment_Relations.pdf'>\n",
            "<DirEntry 'keyes-et-al-2022-the-union-experience-workplace-instrumentality-prosocial-unionism-and-union-satisfaction.pdf'>\n",
            "<DirEntry 'KLUWER_5392304_bb8dbf230b7.pdf'>\n",
            "<DirEntry 'Labour_and_the_Struggle_over_the_future.pdf'>\n",
            "<DirEntry 'lopez-2010-workers-managers-and-customers-triangles-of-power-in-work-communities.pdf'>\n",
            "<DirEntry 'Melanie Simms_ Jane Holgate_ Edmund Heery - Union Voices_ Tactics and Tensions in UK Organizing (2012, Cornell University Press) [10.7591_9780801466021] - libgen.li.pdf'>\n",
            "<DirEntry 'On_Lacan_and_the_Becoming-ness_of_OrganizationsSe.pdf'>\n",
            "<DirEntry 'Researching the Social Economy -- Laurie Mook_ Jack Quarter_ Sherida Ryan -- 1, 2010 -- University of Toronto Press -- 9781442660281 -- 6d900dbe5950657e85dad3e94716be93 -- Anna’s Archive.pdf'>\n",
            "<DirEntry 'Rethinking industrial relations_ mobilization, collectivism, -- Kelly, John E., 1952- -- 1998 -- London _ New York_ Routledge -- 9780415186735 -- e80194baa07c750b40ddbd7bab6b962a -- Anna’s Archive.pdf'>\n",
            "<DirEntry 'retrieve (28).pdf'>\n",
            "<DirEntry 'Routledge International Handbook of Working-Class Studies -- Michele Fazio, Christie Launius, Tim Strangleman -- Routledge International Handbooks, -- 9781138709829 -- 2ca580f36c6f74f105ec6b55e9951162 -.pdf'>\n",
            "<DirEntry 's10672-008-9093-z.pdf'>\n",
            "<DirEntry 'Service Work_ Critical Perspectives -- Cameron MacDonald, Marek Korczynski -- 2008 -- Routledge -- 9780415953160 -- 2d49e5ccb622a93e972b8f40c2deadcc -- Anna’s Archive.pdf'>\n",
            "<DirEntry 'Simms___Union_Voices.pdf'>\n",
            "<DirEntry 'smith-2021-the-indie-unions-and-the-uk-labour-movement-towards-a-community-of-practice.pdf'>\n",
            "<DirEntry 'Socialism From Below -- Hal Draper -- e8fe679eb5898c5a55c9b076446dcde9 -- Anna’s Archive.pdf'>\n",
            "<DirEntry 'Spatial Politics_ Essays For Doreen Massey -- David Featherstone, Joe Painter -- RGS-IBG Book Series, 1, 2013 -- Wiley-Blackwell -- 9781444338300 -- 7eba9edb3c3fee85abdbcc4bda926299 -- Anna’s Archive.pdf'>\n",
            "<DirEntry 'ssoar-ijar-2009-1-dorre_et_al-Organising_-_a_strategic_option.pdf'>\n"
          ]
        }
      ]
    },
    {
      "cell_type": "code",
      "execution_count": null,
      "metadata": {
        "colab": {
          "base_uri": "https://localhost:8080/"
        },
        "id": "3yIUSNI_IFtG",
        "outputId": "9f9bd887-4878-441e-87d1-d2a4704db589"
      },
      "outputs": [
        {
          "output_type": "stream",
          "name": "stdout",
          "text": [
            "['Social_Movement_Unionism_or_Trade_Unions.pdf', 'Social_Movement_Unionism_Questions_and_P.pdf', 'document.pdf', \"<DirEntry 'Wells-UrbanPolicyBecomes-2002.pdf'>\", \"<DirEntry 'Locating Localism_ Statecraft, Citizenship and Democracy -- Jane Wills -- 2016 -- Policy Press -- 9781447323068 -- 467e88660f4d3717044983d1dc572112 -- Anna’s Archive.pdf'>\", \"<DirEntry 'Institutions, production, and working life -- Wood, Geoffrey Edward; James, Philip -- 2006 -- Oxford ; New York_ Oxford University Press -- 9780199291779 -- 092c2c0e528490606ff22d65d2482846 -- Anna’s Ar.pdf'>\", \"<DirEntry 'Working Life_ Renewing Labour Process Analysis -- Paul Thompson, Chris Smith (ed.) -- Critical  Perspectives  on  Work  and  Employment, 2010 -- 9780230222236 -- 78ce8355283096072d50874d34d32408 -- Anna.pdf'>\", \"<DirEntry '[American Ethnologist 2009-nov 06 vol. 36 iss. 4] MASSIMILIANO MOLLONA - Community unionism versus business unionism_ The return of the moral economy in trade union studies (2009) [10.1111_j.1548-1425.2009.pdf'>\", \"<DirEntry '[American Journal of Sociology 2000-sep vol. 106 iss. 2] Voss, Kim _Sherman, Rachel - Breaking the Iron Law of Oligarchy_ Union Revitalization in the American Labor Movement (2000) [10.1086_316963] - libge.pdf'>\", \"<DirEntry '[British Journal of Industrial Relations 2010-apr 14 vol. 48 iss. 2] Maite Tapia - Community Unionism. A Comparative Analysis of Concepts and Contexts – Edited by Jo McBride and Ian Greenwood (2010) [10.11.pdf'>\", \"<DirEntry '[Economic and Industrial Democracy 2014-jun 18 vol. 37 iss. 1] Alberti, G. - Moving beyond the dichotomy of workplace and community unionism_ The challenges of organising migrant workers in Londons hotels .pdf'>\", \"<DirEntry '[European Journal of Industrial Relations 2018-jan 22 vol. 25 iss. 1] Nicklich, Manuel_ Helfen, Markus - Trade union renewal and ‘organizing from below’ in Germany_ Institutional constraints, strategic dil.pdf'>\", \"<DirEntry '[International Comparative Social Studies] Emma Martin-Diaz, Beltran Roca - Migrant Organising_ Community Unionism, Solidarity and Bricolage (2021, BRILL) - libgen.li.pdf'>\", \"<DirEntry '[International Journal of Urban and Regional Research 2008-may 14 vol. 32 iss. 2] JANE WILLS - Making Class Politics Possible_ Organizing Contract Cleaners in London (2008) [10.1111_j.1468-2427.2008.00783..pdf'>\", \"<DirEntry '[Labor Studies Journal vol. 27 iss. 1] Taylor, Graham (Graham John)_ Mathers, Andrew - Social Partner or Social Movement_ European Integration and Trade Union Renewal in Europe (2002) [10.1353_lab.2002.000.pdf'>\", \"<DirEntry '[Relations industrielles 2005-sum vol. 60 iss. 3] Peter Fairbrother and Nikolaus Hammer - Global Unions_ Past Efforts and Future Prospects (2005) [10.2307_23077740] - libgen.li.pdf'>\", \"<DirEntry '[Routledge research in employment relations, 20] Gary Daniels_ John McIlroy - Trade unions in a neoliberal world _ [British trade unions under New Labour] (2009, Routledge) - libgen.li.pdf'>\", \"<DirEntry '[Routledge Studies in the Management of Voluntary and Non-Profit Organizations] Ian Cunningham, Philip James - Voluntary Organizations and Public Service Delivery (2011, Routledge) - libgen.li.pdf'>\", \"<DirEntry '[The Economic and Labour Relations Review 2015-oct 27 vol. 26 iss. 4] Heery, E. - Unions and the organising turn_ Reflections after 20 years of Organising Works (2015) [10.1177_1035304615613281] - libgen.l.pdf'>\", \"<DirEntry '[Transactions of the Institute of British Geographers vol. 26 iss. 4] Jane Wills - Community Unionism and Trade Union Renewal in the UK_ Moving beyond the Fragments at Last_ (2001) [10.2307_3650661] - libg.pdf'>\", \"<DirEntry '[Transformation Critical Perspectives on Southern Africa vol. 72 iss. 1] T Dunbar Moodie, - Becoming a social movement union_ Cyril Ramaphosa and the National Union of Mineworkers (2010) [10.1353_trn.0.006.pdf'>\", \"<DirEntry '[Work Employment & Society 2005-mar vol. 19 iss. 1] Heery, E. - Sources of change in trade unions (2005) [10.1177_0950017005051295] - libgen.li.pdf'>\", \"<DirEntry '[Work Employment & Society 2012-feb 17 vol. 26 iss. 1] Heery, E._ Williams, S._ Abbott, B. - Civil society organizations and trade unions_ cooperation, conflict, indifference (2012) [10.1177_09500170114263.pdf'>\", \"<DirEntry '[Work Employment & Society 2012-oct 12 vol. 26 iss. 5] Upchurch, M._ Croucher, R._ Flynn, M. - Political Congruence and Trade Union Renewal (2012) [10.1177_0950017012451643] - libgen.li.pdf'>\", \"<DirEntry 'fiorito-padavic-2020-what-do-workers-and-the-public-want-unions-social-value.pdf'>\", \"<DirEntry 'foster-2017-accidental-revitalization-looking-at-the-complex-realities-of-union-renewal.pdf'>\", \"<DirEntry 'Fusion+or+Replacement+Prepub+Version.pdf'>\", \"<DirEntry 'Industrial relations and the wider society_ aspects of -- Barrett, Brian -- 1975 -- London_ Collier Macmillan [for] the Open University Press -- 9780029724408 -- c300d0892158446e58c0009b83b82a10 -- Anna.pdf'>\", \"<DirEntry 'Industrial Work and Life_ An Anthropological Reader -- Massimiliano Mollona (editor), Geert De Neve (editor), -- London School of Economics Monographs -- 9781847880765 -- f8232277ec2bca6a42c1502c85370a5.pdf'>\", \"<DirEntry 'Johnstone and Ackers Finding_a_Voice_at_Work_New_Perspectives_on_Employment_Relations.pdf'>\", \"<DirEntry 'keyes-et-al-2022-the-union-experience-workplace-instrumentality-prosocial-unionism-and-union-satisfaction.pdf'>\", \"<DirEntry 'KLUWER_5392304_bb8dbf230b7.pdf'>\", \"<DirEntry 'Labour_and_the_Struggle_over_the_future.pdf'>\", \"<DirEntry 'lopez-2010-workers-managers-and-customers-triangles-of-power-in-work-communities.pdf'>\", \"<DirEntry 'Melanie Simms_ Jane Holgate_ Edmund Heery - Union Voices_ Tactics and Tensions in UK Organizing (2012, Cornell University Press) [10.7591_9780801466021] - libgen.li.pdf'>\", \"<DirEntry 'On_Lacan_and_the_Becoming-ness_of_OrganizationsSe.pdf'>\", \"<DirEntry 'Researching the Social Economy -- Laurie Mook_ Jack Quarter_ Sherida Ryan -- 1, 2010 -- University of Toronto Press -- 9781442660281 -- 6d900dbe5950657e85dad3e94716be93 -- Anna’s Archive.pdf'>\", \"<DirEntry 'Rethinking industrial relations_ mobilization, collectivism, -- Kelly, John E., 1952- -- 1998 -- London _ New York_ Routledge -- 9780415186735 -- e80194baa07c750b40ddbd7bab6b962a -- Anna’s Archive.pdf'>\", \"<DirEntry 'retrieve (28).pdf'>\", \"<DirEntry 'Routledge International Handbook of Working-Class Studies -- Michele Fazio, Christie Launius, Tim Strangleman -- Routledge International Handbooks, -- 9781138709829 -- 2ca580f36c6f74f105ec6b55e9951162 -.pdf'>\", \"<DirEntry 's10672-008-9093-z.pdf'>\", \"<DirEntry 'Service Work_ Critical Perspectives -- Cameron MacDonald, Marek Korczynski -- 2008 -- Routledge -- 9780415953160 -- 2d49e5ccb622a93e972b8f40c2deadcc -- Anna’s Archive.pdf'>\", \"<DirEntry 'Simms___Union_Voices.pdf'>\", \"<DirEntry 'smith-2021-the-indie-unions-and-the-uk-labour-movement-towards-a-community-of-practice.pdf'>\", \"<DirEntry 'Socialism From Below -- Hal Draper -- e8fe679eb5898c5a55c9b076446dcde9 -- Anna’s Archive.pdf'>\", \"<DirEntry 'Spatial Politics_ Essays For Doreen Massey -- David Featherstone, Joe Painter -- RGS-IBG Book Series, 1, 2013 -- Wiley-Blackwell -- 9781444338300 -- 7eba9edb3c3fee85abdbcc4bda926299 -- Anna’s Archive.pdf'>\"]\n"
          ]
        }
      ],
      "source": [
        "print(batch)\n",
        "df = df_cl[df_cl['file'].isin(batch)]\n"
      ]
    },
    {
      "cell_type": "code",
      "execution_count": null,
      "metadata": {
        "id": "bJvIOULQHwjr",
        "colab": {
          "base_uri": "https://localhost:8080/"
        },
        "outputId": "6c1eb638-7959-4f51-d268-ae6aafc63363"
      },
      "outputs": [
        {
          "output_type": "stream",
          "name": "stdout",
          "text": [
            "46\n"
          ]
        }
      ],
      "source": [
        "cum_f = []\n",
        "df_3 = pd.DataFrame()\n",
        "#df = df_cl\n",
        "print(len(f_df))"
      ]
    },
    {
      "cell_type": "code",
      "execution_count": null,
      "metadata": {
        "colab": {
          "base_uri": "https://localhost:8080/"
        },
        "id": "HR6Zg1oJ8KhX",
        "outputId": "1308204f-dda9-4d7b-94ed-7ea05288b149"
      },
      "outputs": [
        {
          "output_type": "stream",
          "name": "stdout",
          "text": [
            "Enter a search term: emancipatory\n",
            "9\n",
            "           term  frequency  percentage\n",
            "0  emancipatory          9          20\n"
          ]
        }
      ],
      "source": [
        "# Search your batch to return the frequency of this term within each file\n",
        "# This also provides the percentage of files with this term in them\n",
        "files = []\n",
        "f_df = df['file'].unique().tolist()\n",
        "searcher = input(\"Enter a search term: \")\n",
        "for i in range(len(df.index)):\n",
        "  if searcher in str(df['text'].iloc[i]).lower():\n",
        "    files.append(df['file'].iloc[i])\n",
        "files = list(dict.fromkeys(files))\n",
        "print(len(files))\n",
        "\n",
        "if files:\n",
        "  percentage = round((len(files)/len(f_df))*100)\n",
        "  data = {\"term\": searcher, \"frequency\" : len(files), \"percentage\": percentage}\n",
        "  df_2 = pd.DataFrame(data, index=[0])\n",
        "  if df_3.empty:\n",
        "    df_3 = df_2\n",
        "  else:\n",
        "    df_3 = pd.concat([df_3, df_2], ignore_index=True)\n",
        "  #df_3 = pd.concat([df_3, df_2], ignore_index=True)\n",
        "\n",
        "print(df_3)\n",
        "for file in files:\n",
        "  cum_f.append(file)\n"
      ]
    },
    {
      "cell_type": "code",
      "execution_count": null,
      "metadata": {
        "colab": {
          "base_uri": "https://localhost:8080/"
        },
        "id": "6dmX3ACxITl2",
        "outputId": "62971990-f8f2-48ae-83e8-05954ab9c3f5"
      },
      "outputs": [
        {
          "output_type": "stream",
          "name": "stdout",
          "text": [
            "percentage of files that contained at least one of the terms: 89% \n"
          ]
        }
      ],
      "source": [
        "# This is a cumulative frequency calaculator which can explore frequencies from multiple runs\n",
        "f_df = df['file'].unique().tolist()\n",
        "cum_f = list(dict.fromkeys(cum_f))\n",
        "not_f = [file for file in cum_f if file not in f_df]\n",
        "total = round(len(cum_f) / len(f_df) * 100)\n",
        "print(f\"percentage of files that contained at least one of the terms: {total}% \")"
      ]
    },
    {
      "cell_type": "code",
      "source": [
        "df_3.head(len(df_3.index))"
      ],
      "metadata": {
        "colab": {
          "base_uri": "https://localhost:8080/",
          "height": 81
        },
        "id": "vzmg_Xh3EAIf",
        "outputId": "2a2c8901-5639-401a-dcc9-05a89ea09dd4"
      },
      "execution_count": null,
      "outputs": [
        {
          "output_type": "execute_result",
          "data": {
            "text/plain": [
              "           term  frequency  percentage\n",
              "0  emancipatory          9          20"
            ],
            "text/html": [
              "\n",
              "  <div id=\"df-ffee11b9-e1ee-4239-9873-d6d6e1cc55c0\" class=\"colab-df-container\">\n",
              "    <div>\n",
              "<style scoped>\n",
              "    .dataframe tbody tr th:only-of-type {\n",
              "        vertical-align: middle;\n",
              "    }\n",
              "\n",
              "    .dataframe tbody tr th {\n",
              "        vertical-align: top;\n",
              "    }\n",
              "\n",
              "    .dataframe thead th {\n",
              "        text-align: right;\n",
              "    }\n",
              "</style>\n",
              "<table border=\"1\" class=\"dataframe\">\n",
              "  <thead>\n",
              "    <tr style=\"text-align: right;\">\n",
              "      <th></th>\n",
              "      <th>term</th>\n",
              "      <th>frequency</th>\n",
              "      <th>percentage</th>\n",
              "    </tr>\n",
              "  </thead>\n",
              "  <tbody>\n",
              "    <tr>\n",
              "      <th>0</th>\n",
              "      <td>emancipatory</td>\n",
              "      <td>9</td>\n",
              "      <td>20</td>\n",
              "    </tr>\n",
              "  </tbody>\n",
              "</table>\n",
              "</div>\n",
              "    <div class=\"colab-df-buttons\">\n",
              "\n",
              "  <div class=\"colab-df-container\">\n",
              "    <button class=\"colab-df-convert\" onclick=\"convertToInteractive('df-ffee11b9-e1ee-4239-9873-d6d6e1cc55c0')\"\n",
              "            title=\"Convert this dataframe to an interactive table.\"\n",
              "            style=\"display:none;\">\n",
              "\n",
              "  <svg xmlns=\"http://www.w3.org/2000/svg\" height=\"24px\" viewBox=\"0 -960 960 960\">\n",
              "    <path d=\"M120-120v-720h720v720H120Zm60-500h600v-160H180v160Zm220 220h160v-160H400v160Zm0 220h160v-160H400v160ZM180-400h160v-160H180v160Zm440 0h160v-160H620v160ZM180-180h160v-160H180v160Zm440 0h160v-160H620v160Z\"/>\n",
              "  </svg>\n",
              "    </button>\n",
              "\n",
              "  <style>\n",
              "    .colab-df-container {\n",
              "      display:flex;\n",
              "      gap: 12px;\n",
              "    }\n",
              "\n",
              "    .colab-df-convert {\n",
              "      background-color: #E8F0FE;\n",
              "      border: none;\n",
              "      border-radius: 50%;\n",
              "      cursor: pointer;\n",
              "      display: none;\n",
              "      fill: #1967D2;\n",
              "      height: 32px;\n",
              "      padding: 0 0 0 0;\n",
              "      width: 32px;\n",
              "    }\n",
              "\n",
              "    .colab-df-convert:hover {\n",
              "      background-color: #E2EBFA;\n",
              "      box-shadow: 0px 1px 2px rgba(60, 64, 67, 0.3), 0px 1px 3px 1px rgba(60, 64, 67, 0.15);\n",
              "      fill: #174EA6;\n",
              "    }\n",
              "\n",
              "    .colab-df-buttons div {\n",
              "      margin-bottom: 4px;\n",
              "    }\n",
              "\n",
              "    [theme=dark] .colab-df-convert {\n",
              "      background-color: #3B4455;\n",
              "      fill: #D2E3FC;\n",
              "    }\n",
              "\n",
              "    [theme=dark] .colab-df-convert:hover {\n",
              "      background-color: #434B5C;\n",
              "      box-shadow: 0px 1px 3px 1px rgba(0, 0, 0, 0.15);\n",
              "      filter: drop-shadow(0px 1px 2px rgba(0, 0, 0, 0.3));\n",
              "      fill: #FFFFFF;\n",
              "    }\n",
              "  </style>\n",
              "\n",
              "    <script>\n",
              "      const buttonEl =\n",
              "        document.querySelector('#df-ffee11b9-e1ee-4239-9873-d6d6e1cc55c0 button.colab-df-convert');\n",
              "      buttonEl.style.display =\n",
              "        google.colab.kernel.accessAllowed ? 'block' : 'none';\n",
              "\n",
              "      async function convertToInteractive(key) {\n",
              "        const element = document.querySelector('#df-ffee11b9-e1ee-4239-9873-d6d6e1cc55c0');\n",
              "        const dataTable =\n",
              "          await google.colab.kernel.invokeFunction('convertToInteractive',\n",
              "                                                    [key], {});\n",
              "        if (!dataTable) return;\n",
              "\n",
              "        const docLinkHtml = 'Like what you see? Visit the ' +\n",
              "          '<a target=\"_blank\" href=https://colab.research.google.com/notebooks/data_table.ipynb>data table notebook</a>'\n",
              "          + ' to learn more about interactive tables.';\n",
              "        element.innerHTML = '';\n",
              "        dataTable['output_type'] = 'display_data';\n",
              "        await google.colab.output.renderOutput(dataTable, element);\n",
              "        const docLink = document.createElement('div');\n",
              "        docLink.innerHTML = docLinkHtml;\n",
              "        element.appendChild(docLink);\n",
              "      }\n",
              "    </script>\n",
              "  </div>\n",
              "\n",
              "\n",
              "    </div>\n",
              "  </div>\n"
            ],
            "application/vnd.google.colaboratory.intrinsic+json": {
              "type": "dataframe",
              "variable_name": "df_3",
              "summary": "{\n  \"name\": \"df_3\",\n  \"rows\": 1,\n  \"fields\": [\n    {\n      \"column\": \"term\",\n      \"properties\": {\n        \"dtype\": \"string\",\n        \"num_unique_values\": 1,\n        \"samples\": [\n          \"emancipatory\"\n        ],\n        \"semantic_type\": \"\",\n        \"description\": \"\"\n      }\n    },\n    {\n      \"column\": \"frequency\",\n      \"properties\": {\n        \"dtype\": \"number\",\n        \"std\": null,\n        \"min\": 9,\n        \"max\": 9,\n        \"num_unique_values\": 1,\n        \"samples\": [\n          9\n        ],\n        \"semantic_type\": \"\",\n        \"description\": \"\"\n      }\n    },\n    {\n      \"column\": \"percentage\",\n      \"properties\": {\n        \"dtype\": \"number\",\n        \"std\": null,\n        \"min\": 20,\n        \"max\": 20,\n        \"num_unique_values\": 1,\n        \"samples\": [\n          20\n        ],\n        \"semantic_type\": \"\",\n        \"description\": \"\"\n      }\n    }\n  ]\n}"
            }
          },
          "metadata": {},
          "execution_count": 93
        }
      ]
    },
    {
      "cell_type": "code",
      "source": [
        "# Find the files that are containing your search term\n",
        "excluded = [file for file in f_df if file not in files]\n",
        "for file in excluded:\n",
        "  print(file)\n",
        "\n"
      ],
      "metadata": {
        "colab": {
          "base_uri": "https://localhost:8080/"
        },
        "id": "Huid6vvZ0zIq",
        "outputId": "37a13132-196b-47f0-b64d-5a6fd0973373"
      },
      "execution_count": null,
      "outputs": [
        {
          "output_type": "stream",
          "name": "stdout",
          "text": [
            "<DirEntry 'yousfi-2021-organization-and-organizing-in-revolutionary-times-the-case-of-tunisian-general-labor-union.pdf'>\n",
            "<DirEntry '[The Journal of Industrial Relations 2017-aug 04 vol. 59 iss. 4] Schmalz, Stefan_ Thiel, Marcel - IG Metall’s comeback_ Trade union renewal in times of crisis (2017) [10.1177_0022185617714818] - libgen.li.pdf'>\n",
            "<DirEntry 'IRES.pdf'>\n",
            "<DirEntry 'ssoar-ijar-2009-1-dorre_et_al-Organising_-_a_strategic_option.pdf'>\n"
          ]
        }
      ]
    }
  ],
  "metadata": {
    "colab": {
      "provenance": []
    },
    "kernelspec": {
      "display_name": "Python 3",
      "name": "python3"
    },
    "language_info": {
      "name": "python"
    }
  },
  "nbformat": 4,
  "nbformat_minor": 0
}