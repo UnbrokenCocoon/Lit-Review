{
  "cells": [
    {
      "cell_type": "code",
      "execution_count": 1,
      "metadata": {
        "colab": {
          "base_uri": "https://localhost:8080/",
          "height": 310
        },
        "id": "48IiM_Ac94Y0",
        "outputId": "c86e4e87-89dc-4f26-e5e1-6d3231aca663"
      },
      "outputs": [
        {
          "output_type": "execute_result",
          "data": {
            "text/plain": [
              "   Unnamed: 0.1  Unnamed: 0  \\\n",
              "0             0           0   \n",
              "1             1           1   \n",
              "2             2           2   \n",
              "3             3           3   \n",
              "4             4           4   \n",
              "\n",
              "                                                file  \\\n",
              "0  What is Microhistory_ Theory and practice -- S...   \n",
              "1  What is Microhistory_ Theory and practice -- S...   \n",
              "2  What is Microhistory_ Theory and practice -- S...   \n",
              "3  What is Microhistory_ Theory and practice -- S...   \n",
              "4  What is Microhistory_ Theory and practice -- S...   \n",
              "\n",
              "                                                text  \n",
              "0   Routledge Revivals Occupational Socialization...  \n",
              "1  The series publishes original sociological res...  \n",
              "2  The series includes monographs reporting on em...  \n",
              "3  Occupational Socialization and Occupational So...  \n",
              "4  He has extensive research and publishing exper...  "
            ],
            "text/html": [
              "\n",
              "  <div id=\"df-543ca374-dd5e-43b1-ae79-5923f57ccdc6\" class=\"colab-df-container\">\n",
              "    <div>\n",
              "<style scoped>\n",
              "    .dataframe tbody tr th:only-of-type {\n",
              "        vertical-align: middle;\n",
              "    }\n",
              "\n",
              "    .dataframe tbody tr th {\n",
              "        vertical-align: top;\n",
              "    }\n",
              "\n",
              "    .dataframe thead th {\n",
              "        text-align: right;\n",
              "    }\n",
              "</style>\n",
              "<table border=\"1\" class=\"dataframe\">\n",
              "  <thead>\n",
              "    <tr style=\"text-align: right;\">\n",
              "      <th></th>\n",
              "      <th>Unnamed: 0.1</th>\n",
              "      <th>Unnamed: 0</th>\n",
              "      <th>file</th>\n",
              "      <th>text</th>\n",
              "    </tr>\n",
              "  </thead>\n",
              "  <tbody>\n",
              "    <tr>\n",
              "      <th>0</th>\n",
              "      <td>0</td>\n",
              "      <td>0</td>\n",
              "      <td>What is Microhistory_ Theory and practice -- S...</td>\n",
              "      <td>Routledge Revivals Occupational Socialization...</td>\n",
              "    </tr>\n",
              "    <tr>\n",
              "      <th>1</th>\n",
              "      <td>1</td>\n",
              "      <td>1</td>\n",
              "      <td>What is Microhistory_ Theory and practice -- S...</td>\n",
              "      <td>The series publishes original sociological res...</td>\n",
              "    </tr>\n",
              "    <tr>\n",
              "      <th>2</th>\n",
              "      <td>2</td>\n",
              "      <td>2</td>\n",
              "      <td>What is Microhistory_ Theory and practice -- S...</td>\n",
              "      <td>The series includes monographs reporting on em...</td>\n",
              "    </tr>\n",
              "    <tr>\n",
              "      <th>3</th>\n",
              "      <td>3</td>\n",
              "      <td>3</td>\n",
              "      <td>What is Microhistory_ Theory and practice -- S...</td>\n",
              "      <td>Occupational Socialization and Occupational So...</td>\n",
              "    </tr>\n",
              "    <tr>\n",
              "      <th>4</th>\n",
              "      <td>4</td>\n",
              "      <td>4</td>\n",
              "      <td>What is Microhistory_ Theory and practice -- S...</td>\n",
              "      <td>He has extensive research and publishing exper...</td>\n",
              "    </tr>\n",
              "  </tbody>\n",
              "</table>\n",
              "</div>\n",
              "    <div class=\"colab-df-buttons\">\n",
              "\n",
              "  <div class=\"colab-df-container\">\n",
              "    <button class=\"colab-df-convert\" onclick=\"convertToInteractive('df-543ca374-dd5e-43b1-ae79-5923f57ccdc6')\"\n",
              "            title=\"Convert this dataframe to an interactive table.\"\n",
              "            style=\"display:none;\">\n",
              "\n",
              "  <svg xmlns=\"http://www.w3.org/2000/svg\" height=\"24px\" viewBox=\"0 -960 960 960\">\n",
              "    <path d=\"M120-120v-720h720v720H120Zm60-500h600v-160H180v160Zm220 220h160v-160H400v160Zm0 220h160v-160H400v160ZM180-400h160v-160H180v160Zm440 0h160v-160H620v160ZM180-180h160v-160H180v160Zm440 0h160v-160H620v160Z\"/>\n",
              "  </svg>\n",
              "    </button>\n",
              "\n",
              "  <style>\n",
              "    .colab-df-container {\n",
              "      display:flex;\n",
              "      gap: 12px;\n",
              "    }\n",
              "\n",
              "    .colab-df-convert {\n",
              "      background-color: #E8F0FE;\n",
              "      border: none;\n",
              "      border-radius: 50%;\n",
              "      cursor: pointer;\n",
              "      display: none;\n",
              "      fill: #1967D2;\n",
              "      height: 32px;\n",
              "      padding: 0 0 0 0;\n",
              "      width: 32px;\n",
              "    }\n",
              "\n",
              "    .colab-df-convert:hover {\n",
              "      background-color: #E2EBFA;\n",
              "      box-shadow: 0px 1px 2px rgba(60, 64, 67, 0.3), 0px 1px 3px 1px rgba(60, 64, 67, 0.15);\n",
              "      fill: #174EA6;\n",
              "    }\n",
              "\n",
              "    .colab-df-buttons div {\n",
              "      margin-bottom: 4px;\n",
              "    }\n",
              "\n",
              "    [theme=dark] .colab-df-convert {\n",
              "      background-color: #3B4455;\n",
              "      fill: #D2E3FC;\n",
              "    }\n",
              "\n",
              "    [theme=dark] .colab-df-convert:hover {\n",
              "      background-color: #434B5C;\n",
              "      box-shadow: 0px 1px 3px 1px rgba(0, 0, 0, 0.15);\n",
              "      filter: drop-shadow(0px 1px 2px rgba(0, 0, 0, 0.3));\n",
              "      fill: #FFFFFF;\n",
              "    }\n",
              "  </style>\n",
              "\n",
              "    <script>\n",
              "      const buttonEl =\n",
              "        document.querySelector('#df-543ca374-dd5e-43b1-ae79-5923f57ccdc6 button.colab-df-convert');\n",
              "      buttonEl.style.display =\n",
              "        google.colab.kernel.accessAllowed ? 'block' : 'none';\n",
              "\n",
              "      async function convertToInteractive(key) {\n",
              "        const element = document.querySelector('#df-543ca374-dd5e-43b1-ae79-5923f57ccdc6');\n",
              "        const dataTable =\n",
              "          await google.colab.kernel.invokeFunction('convertToInteractive',\n",
              "                                                    [key], {});\n",
              "        if (!dataTable) return;\n",
              "\n",
              "        const docLinkHtml = 'Like what you see? Visit the ' +\n",
              "          '<a target=\"_blank\" href=https://colab.research.google.com/notebooks/data_table.ipynb>data table notebook</a>'\n",
              "          + ' to learn more about interactive tables.';\n",
              "        element.innerHTML = '';\n",
              "        dataTable['output_type'] = 'display_data';\n",
              "        await google.colab.output.renderOutput(dataTable, element);\n",
              "        const docLink = document.createElement('div');\n",
              "        docLink.innerHTML = docLinkHtml;\n",
              "        element.appendChild(docLink);\n",
              "      }\n",
              "    </script>\n",
              "  </div>\n",
              "\n",
              "\n",
              "    <div id=\"df-692625d1-1dfb-4c12-babd-1dddaebd6fd3\">\n",
              "      <button class=\"colab-df-quickchart\" onclick=\"quickchart('df-692625d1-1dfb-4c12-babd-1dddaebd6fd3')\"\n",
              "                title=\"Suggest charts\"\n",
              "                style=\"display:none;\">\n",
              "\n",
              "<svg xmlns=\"http://www.w3.org/2000/svg\" height=\"24px\"viewBox=\"0 0 24 24\"\n",
              "     width=\"24px\">\n",
              "    <g>\n",
              "        <path d=\"M19 3H5c-1.1 0-2 .9-2 2v14c0 1.1.9 2 2 2h14c1.1 0 2-.9 2-2V5c0-1.1-.9-2-2-2zM9 17H7v-7h2v7zm4 0h-2V7h2v10zm4 0h-2v-4h2v4z\"/>\n",
              "    </g>\n",
              "</svg>\n",
              "      </button>\n",
              "\n",
              "<style>\n",
              "  .colab-df-quickchart {\n",
              "      --bg-color: #E8F0FE;\n",
              "      --fill-color: #1967D2;\n",
              "      --hover-bg-color: #E2EBFA;\n",
              "      --hover-fill-color: #174EA6;\n",
              "      --disabled-fill-color: #AAA;\n",
              "      --disabled-bg-color: #DDD;\n",
              "  }\n",
              "\n",
              "  [theme=dark] .colab-df-quickchart {\n",
              "      --bg-color: #3B4455;\n",
              "      --fill-color: #D2E3FC;\n",
              "      --hover-bg-color: #434B5C;\n",
              "      --hover-fill-color: #FFFFFF;\n",
              "      --disabled-bg-color: #3B4455;\n",
              "      --disabled-fill-color: #666;\n",
              "  }\n",
              "\n",
              "  .colab-df-quickchart {\n",
              "    background-color: var(--bg-color);\n",
              "    border: none;\n",
              "    border-radius: 50%;\n",
              "    cursor: pointer;\n",
              "    display: none;\n",
              "    fill: var(--fill-color);\n",
              "    height: 32px;\n",
              "    padding: 0;\n",
              "    width: 32px;\n",
              "  }\n",
              "\n",
              "  .colab-df-quickchart:hover {\n",
              "    background-color: var(--hover-bg-color);\n",
              "    box-shadow: 0 1px 2px rgba(60, 64, 67, 0.3), 0 1px 3px 1px rgba(60, 64, 67, 0.15);\n",
              "    fill: var(--button-hover-fill-color);\n",
              "  }\n",
              "\n",
              "  .colab-df-quickchart-complete:disabled,\n",
              "  .colab-df-quickchart-complete:disabled:hover {\n",
              "    background-color: var(--disabled-bg-color);\n",
              "    fill: var(--disabled-fill-color);\n",
              "    box-shadow: none;\n",
              "  }\n",
              "\n",
              "  .colab-df-spinner {\n",
              "    border: 2px solid var(--fill-color);\n",
              "    border-color: transparent;\n",
              "    border-bottom-color: var(--fill-color);\n",
              "    animation:\n",
              "      spin 1s steps(1) infinite;\n",
              "  }\n",
              "\n",
              "  @keyframes spin {\n",
              "    0% {\n",
              "      border-color: transparent;\n",
              "      border-bottom-color: var(--fill-color);\n",
              "      border-left-color: var(--fill-color);\n",
              "    }\n",
              "    20% {\n",
              "      border-color: transparent;\n",
              "      border-left-color: var(--fill-color);\n",
              "      border-top-color: var(--fill-color);\n",
              "    }\n",
              "    30% {\n",
              "      border-color: transparent;\n",
              "      border-left-color: var(--fill-color);\n",
              "      border-top-color: var(--fill-color);\n",
              "      border-right-color: var(--fill-color);\n",
              "    }\n",
              "    40% {\n",
              "      border-color: transparent;\n",
              "      border-right-color: var(--fill-color);\n",
              "      border-top-color: var(--fill-color);\n",
              "    }\n",
              "    60% {\n",
              "      border-color: transparent;\n",
              "      border-right-color: var(--fill-color);\n",
              "    }\n",
              "    80% {\n",
              "      border-color: transparent;\n",
              "      border-right-color: var(--fill-color);\n",
              "      border-bottom-color: var(--fill-color);\n",
              "    }\n",
              "    90% {\n",
              "      border-color: transparent;\n",
              "      border-bottom-color: var(--fill-color);\n",
              "    }\n",
              "  }\n",
              "</style>\n",
              "\n",
              "      <script>\n",
              "        async function quickchart(key) {\n",
              "          const quickchartButtonEl =\n",
              "            document.querySelector('#' + key + ' button');\n",
              "          quickchartButtonEl.disabled = true;  // To prevent multiple clicks.\n",
              "          quickchartButtonEl.classList.add('colab-df-spinner');\n",
              "          try {\n",
              "            const charts = await google.colab.kernel.invokeFunction(\n",
              "                'suggestCharts', [key], {});\n",
              "          } catch (error) {\n",
              "            console.error('Error during call to suggestCharts:', error);\n",
              "          }\n",
              "          quickchartButtonEl.classList.remove('colab-df-spinner');\n",
              "          quickchartButtonEl.classList.add('colab-df-quickchart-complete');\n",
              "        }\n",
              "        (() => {\n",
              "          let quickchartButtonEl =\n",
              "            document.querySelector('#df-692625d1-1dfb-4c12-babd-1dddaebd6fd3 button');\n",
              "          quickchartButtonEl.style.display =\n",
              "            google.colab.kernel.accessAllowed ? 'block' : 'none';\n",
              "        })();\n",
              "      </script>\n",
              "    </div>\n",
              "\n",
              "    </div>\n",
              "  </div>\n"
            ],
            "application/vnd.google.colaboratory.intrinsic+json": {
              "type": "dataframe",
              "variable_name": "df"
            }
          },
          "metadata": {},
          "execution_count": 1
        }
      ],
      "source": [
        "dir = '/content/drive/MyDrive/df/all_texts.csv'\n",
        "import pandas as pd\n",
        "df = pd.read_csv(dir)\n",
        "df.head()"
      ]
    },
    {
      "cell_type": "code",
      "source": [
        "# Extract ISBNs from books to search\n",
        "import re\n",
        "\n",
        "isbn_pattern = re.compile(r\"(97(8|9))?\\d{9}[\\dX]\", re.IGNORECASE)\n",
        "\n",
        "isbns = []\n",
        "files = []\n",
        "\n",
        "for i in range(len(df['text'])):\n",
        "    text = str(df['text'].iloc[i])\n",
        "    if \"ISBN\" in text:\n",
        "        match = re.search(isbn_pattern, text.replace(\"-\", \"\").replace(\" \", \"\"))\n",
        "        if match:\n",
        "            isbns.append(match.group(0))\n",
        "            files.append(df['file'].iloc[i])\n",
        "\n",
        "data = {'file': files, 'isbn': isbns}\n",
        "df_isbns = pd.DataFrame(data)\n",
        "print(df_isbns)"
      ],
      "metadata": {
        "colab": {
          "base_uri": "https://localhost:8080/"
        },
        "id": "FHQvSFyUNFkY",
        "outputId": "0aa82d4b-f1c9-4607-a6fb-a01712aebc06"
      },
      "execution_count": 2,
      "outputs": [
        {
          "output_type": "stream",
          "name": "stdout",
          "text": [
            "                                                  file           isbn\n",
            "0    <DirEntry 'Historics  Why history dominates co...     1364252080\n",
            "1    <DirEntry 'History in the discursive condition...  9780415782197\n",
            "2    <DirEntry 'Imprisoned by History_ Aspects of H...     2009024913\n",
            "3      <DirEntry 'Hobsbawm  History and Politics.pdf'>  9780745328447\n",
            "4    <DirEntry 'At the Limits of History_ Essays on...     2008050132\n",
            "..                                                 ...            ...\n",
            "604  <DirEntry 'The Ages of Voluntarism  How We Got...  9780197264829\n",
            "605  <DirEntry 'The Anthropology of Organisations -...     2007924365\n",
            "606  <DirEntry 'The Anthropology of Postindustriali...     2320150216\n",
            "607  <DirEntry 'The Archive Project_ Archival Resea...     2015042243\n",
            "608  <DirEntry 'The British_ their religious belief...     0941881143\n",
            "\n",
            "[609 rows x 2 columns]\n"
          ]
        }
      ]
    },
    {
      "cell_type": "code",
      "source": [
        "# Extract dois from articles\n",
        "dois =[]\n",
        "files = []\n",
        "\n",
        "searcher = [\"sagepub\", \"To link to this article:\", \"all rights reserved.\"]\n",
        "doi_pattern = re.compile(r\"10.\\d{4,9}/[-._;()/:A-Z0-9]+\", re.IGNORECASE)\n",
        "for i in range(len(df['text'])):\n",
        "  for term in searcher:\n",
        "    if term in str(df['text'].iloc[i]):\n",
        "        text = str(df['text'].iloc[i])\n",
        "        match = re.search(doi_pattern, text)\n",
        "        if match:\n",
        "            dois.append(match.group(0))\n",
        "            files.append(df['file'].iloc[i])\n",
        "\n",
        "data = {'file': files, 'doi': dois}\n",
        "df_dois = pd.DataFrame(data)\n",
        "print(df_dois)"
      ],
      "metadata": {
        "colab": {
          "base_uri": "https://localhost:8080/"
        },
        "id": "UbRYjKYRGI40",
        "outputId": "8066677a-4cb0-4c8c-8c05-dbc66284b818"
      },
      "execution_count": 4,
      "outputs": [
        {
          "output_type": "stream",
          "name": "stdout",
          "text": [
            "                                                  file  \\\n",
            "0    <DirEntry 'Historics  Why history dominates co...   \n",
            "1    <DirEntry 'Christopher Lasch  Critic of libera...   \n",
            "2    <DirEntry 'Straussian constitutional history a...   \n",
            "3      <DirEntry 'On the defence of  my  history.pdf'>   \n",
            "4      <DirEntry 'Times  histories and discourse.pdf'>   \n",
            "..                                                 ...   \n",
            "469      <DirEntry 'The Anatomy of  White Guilt .pdf'>   \n",
            "470  <DirEntry 'The Autobiography of William Hart  ...   \n",
            "471  <DirEntry 'The Barking Ladies   Work  Neighbou...   \n",
            "472  <DirEntry 'The biggest  and   one of the most ...   \n",
            "473  <DirEntry 'The Census Records of Leicester 185...   \n",
            "\n",
            "                               doi  \n",
            "0        10.1080/13642520802460653  \n",
            "1        10.1080/13642520903293110  \n",
            "2        10.1080/13642520903292898  \n",
            "3        10.1080/13642521003710755  \n",
            "4     10.1080/13642529.2010.482795  \n",
            "..                             ...  \n",
            "469  10.1080/13534645.2024.2302665  \n",
            "470       10.1179/ldn.1981.7.2.144  \n",
            "471       10.1179/ldn.1997.22.1.51  \n",
            "472      10.1080/13619460600785291  \n",
            "473  10.1080/14631180.2021.2040156  \n",
            "\n",
            "[474 rows x 2 columns]\n"
          ]
        }
      ]
    },
    {
      "cell_type": "code",
      "source": [
        "authors =[]\n",
        "years =[]\n",
        "files = []\n",
        "import nltk\n",
        "from nltk import word_tokenize\n",
        "nltk.download('punkt_tab')\n",
        "remove_list = [\"book\", \"peopl\", \"title\", \"the\", \"a\", \"published\", \"by\", \"bri\",\"ed\", \"reviewed\", \"published\", \"by\" \"edinb\", \"edi\", \"beveri\", \"review\", \"edi\", \":\"]\n",
        "for i in range(len(df)):\n",
        "  text = str(df['text'].iloc[i])\n",
        "  if \"JSTOR\" in text:\n",
        "    if \"Author(s):\" in text:\n",
        "      author = text.split(\"Author(s):\")[1].strip()\n",
        "      if author:\n",
        "        author = author.split(\"Source\")[0].strip()\n",
        "        if len(author) > 100:\n",
        "          author = author[:30]\n",
        "        author_words = word_tokenize(author)\n",
        "        author_words = [word for word in author_words if word.lower() not in remove_list]\n",
        "        match = re.search(r\"\\d{4}\", text)\n",
        "        if match:\n",
        "          year = match.group(0)\n",
        "          years.append(year)\n",
        "          author = \" \".join(author_words)\n",
        "          authors.append(author)\n",
        "          files.append(df['file'].iloc[i])\n",
        "data = {'file': files, 'author': authors, 'year': years}\n",
        "df_meta_jstor = pd.DataFrame(data)\n",
        "print(df_meta_jstor)"
      ],
      "metadata": {
        "colab": {
          "base_uri": "https://localhost:8080/"
        },
        "id": "DVLkxHLfmNdK",
        "outputId": "06e69eaf-3153-4526-fcc1-282c9a6ccc53"
      },
      "execution_count": 5,
      "outputs": [
        {
          "output_type": "stream",
          "name": "stderr",
          "text": [
            "[nltk_data] Downloading package punkt_tab to /root/nltk_data...\n",
            "[nltk_data]   Unzipping tokenizers/punkt_tab.zip.\n"
          ]
        },
        {
          "output_type": "stream",
          "name": "stdout",
          "text": [
            "                                                  file              author  \\\n",
            "0    <DirEntry 'Gigante-TowardNotionCritical-1998.p...      Denise Gigante   \n",
            "1    <DirEntry 'Brown-DialogismGazeEmergence-1997.p...      Vivienne Brown   \n",
            "2    <DirEntry 'Eagleton-BalladMarxistCriticism-199...      Terry Eagleton   \n",
            "3    <DirEntry 'Gearhart-ReplyStephenGreenblatt-199...    Suzanne Gearhart   \n",
            "4    <DirEntry 'Greenblatt-ResponseSuzanneGearhart-...  Stephen Greenblatt   \n",
            "..                                                 ...                 ...   \n",
            "722  <DirEntry 'TAYLOR-PopularPolitics18371850-1995...        PETER TAYLOR   \n",
            "723        <DirEntry 'Temin-TwoViewsBritish-1997.pdf'>         Peter Temin   \n",
            "724         <DirEntry 'Thane-BigStateversus-2015.pdf'>           Pat Thane   \n",
            "725  <DirEntry 'Thane-VoluntaryactionBritain-2011.p...           Pat Thane   \n",
            "726  <DirEntry 'Thane-Voluntaryactionwelfare-2017.p...           Pat Thane   \n",
            "\n",
            "     year  \n",
            "0    1998  \n",
            "1    1997  \n",
            "2    1997  \n",
            "3    1997  \n",
            "4    1997  \n",
            "..    ...  \n",
            "722  1837  \n",
            "723  1997  \n",
            "724  1885  \n",
            "725  2011  \n",
            "726  1700  \n",
            "\n",
            "[727 rows x 3 columns]\n"
          ]
        }
      ]
    },
    {
      "cell_type": "code",
      "source": [
        "# With this approach, expect to find some remaining files\n",
        "# This is due to variation in how dois are represented in articles\n",
        "# To find more citations, make a custom work through by inspecting items you have missed\n",
        "files_doi = (df_dois['file'].unique().tolist())\n",
        "files = df_meta_jstor['file'].unique().tolist()\n",
        "files.extend(files_doi)\n",
        "isbn_files = df_isbns['file'].unique().tolist()\n",
        "files.extend(isbn_files)\n",
        "print(f'citations found {len(files)}')\n",
        "total_files = df['file'].unique().tolist()\n",
        "remaining_files = [file for file in total_files if file not in files]\n",
        "print(f'remaining files {len(remaining_files)}')"
      ],
      "metadata": {
        "colab": {
          "base_uri": "https://localhost:8080/"
        },
        "id": "VcCBsVdMKzbT",
        "outputId": "033f99cc-8e9b-4c6c-c345-80cb3ba43d26"
      },
      "execution_count": 7,
      "outputs": [
        {
          "output_type": "stream",
          "name": "stdout",
          "text": [
            "citations found 1362\n",
            "remaining files 728\n"
          ]
        }
      ]
    },
    {
      "cell_type": "code",
      "source": [
        "import requests\n",
        "files = []\n",
        "metas = []\n",
        "titles = []\n",
        "authors = []\n",
        "years = []\n",
        "from tqdm import tqdm\n",
        "import requests\n",
        "def get_isbn_metadata_openlibrary(isbn):\n",
        "    url = f\"https://openlibrary.org/api/books?bibkeys=ISBN:{isbn}&format=json&jscmd=data\"\n",
        "    r = requests.get(url)\n",
        "    if r.status_code == 200:\n",
        "        data = r.json()\n",
        "        return data.get(f\"ISBN:{isbn}\", None)\n",
        "    return None\n",
        "for i in tqdm(range(len(df_isbns))):\n",
        "  isbn = df_isbns['isbn'].iloc[i]\n",
        "  meta = get_isbn_metadata_openlibrary(isbn)\n",
        "  if meta:\n",
        "    title, authors, year = meta.get(\"title\", \"\"), meta.get(\"authors\", []), meta.get(\"publish_date\", \"\")\n",
        "    titles.append(title)\n",
        "    authors.append(authors)\n",
        "    years.append(year)\n",
        "    files.append(df_isbns['file'].iloc[i])\n",
        "  else:\n",
        "    print(f\"❌ ISBN not found: {isbn}\")\n",
        ""
      ],
      "metadata": {
        "colab": {
          "base_uri": "https://localhost:8080/"
        },
        "id": "cr5BbM3rOjOv",
        "outputId": "a2ffcfcd-72c3-4c70-ab96-6ed5616111ae"
      },
      "execution_count": null,
      "outputs": [
        {
          "output_type": "stream",
          "name": "stderr",
          "text": [
            "  0%|          | 1/609 [00:00<07:16,  1.39it/s]"
          ]
        },
        {
          "output_type": "stream",
          "name": "stdout",
          "text": [
            "❌ ISBN not found: 1364252080\n"
          ]
        },
        {
          "output_type": "stream",
          "name": "stderr",
          "text": [
            "  0%|          | 3/609 [00:02<07:33,  1.34it/s]"
          ]
        },
        {
          "output_type": "stream",
          "name": "stdout",
          "text": [
            "❌ ISBN not found: 2009024913\n"
          ]
        },
        {
          "output_type": "stream",
          "name": "stderr",
          "text": [
            "  1%|          | 5/609 [00:03<06:47,  1.48it/s]"
          ]
        },
        {
          "output_type": "stream",
          "name": "stdout",
          "text": [
            "❌ ISBN not found: 2008050132\n"
          ]
        },
        {
          "output_type": "stream",
          "name": "stderr",
          "text": [
            "  1%|▏         | 8/609 [00:05<06:58,  1.44it/s]"
          ]
        },
        {
          "output_type": "stream",
          "name": "stdout",
          "text": [
            "❌ ISBN not found: 2020933538\n"
          ]
        },
        {
          "output_type": "stream",
          "name": "stderr",
          "text": [
            "  2%|▏         | 11/609 [00:07<06:17,  1.59it/s]"
          ]
        },
        {
          "output_type": "stream",
          "name": "stdout",
          "text": [
            "❌ ISBN not found: 0000000336\n"
          ]
        },
        {
          "output_type": "stream",
          "name": "stderr",
          "text": [
            "  2%|▏         | 14/609 [00:09<05:39,  1.75it/s]"
          ]
        },
        {
          "output_type": "stream",
          "name": "stdout",
          "text": [
            "❌ ISBN not found: 0000000271\n"
          ]
        },
        {
          "output_type": "stream",
          "name": "stderr",
          "text": [
            "  4%|▎         | 22/609 [00:15<06:55,  1.41it/s]"
          ]
        },
        {
          "output_type": "stream",
          "name": "stdout",
          "text": [
            "❌ ISBN not found: 2022045464\n"
          ]
        },
        {
          "output_type": "stream",
          "name": "stderr",
          "text": [
            "  5%|▌         | 31/609 [00:21<07:22,  1.31it/s]"
          ]
        },
        {
          "output_type": "stream",
          "name": "stdout",
          "text": [
            "❌ ISBN not found: 1773702770\n"
          ]
        },
        {
          "output_type": "stream",
          "name": "stderr",
          "text": [
            "\r  5%|▌         | 32/609 [00:22<06:38,  1.45it/s]"
          ]
        },
        {
          "output_type": "stream",
          "name": "stdout",
          "text": [
            "❌ ISBN not found: 1173314054\n"
          ]
        },
        {
          "output_type": "stream",
          "name": "stderr",
          "text": [
            "  6%|▌         | 35/609 [00:24<06:14,  1.53it/s]"
          ]
        },
        {
          "output_type": "stream",
          "name": "stdout",
          "text": [
            "❌ ISBN not found: 2015007684\n"
          ]
        },
        {
          "output_type": "stream",
          "name": "stderr",
          "text": [
            "  6%|▌         | 38/609 [00:26<05:59,  1.59it/s]"
          ]
        },
        {
          "output_type": "stream",
          "name": "stdout",
          "text": [
            "❌ ISBN not found: 0199604111\n"
          ]
        },
        {
          "output_type": "stream",
          "name": "stderr",
          "text": [
            "\r  6%|▋         | 39/609 [00:26<05:38,  1.68it/s]"
          ]
        },
        {
          "output_type": "stream",
          "name": "stdout",
          "text": [
            "❌ ISBN not found: 2016949255\n"
          ]
        },
        {
          "output_type": "stream",
          "name": "stderr",
          "text": [
            "  7%|▋         | 41/609 [00:27<05:16,  1.80it/s]"
          ]
        },
        {
          "output_type": "stream",
          "name": "stdout",
          "text": [
            "❌ ISBN not found: 2410209414\n"
          ]
        },
        {
          "output_type": "stream",
          "name": "stderr",
          "text": [
            "  8%|▊         | 46/609 [00:34<11:41,  1.25s/it]"
          ]
        },
        {
          "output_type": "stream",
          "name": "stdout",
          "text": [
            "❌ ISBN not found: 1773702770\n"
          ]
        },
        {
          "output_type": "stream",
          "name": "stderr",
          "text": [
            "\r  8%|▊         | 47/609 [00:35<09:40,  1.03s/it]"
          ]
        },
        {
          "output_type": "stream",
          "name": "stdout",
          "text": [
            "❌ ISBN not found: 4391992324\n"
          ]
        },
        {
          "output_type": "stream",
          "name": "stderr",
          "text": [
            "  9%|▉         | 54/609 [00:40<06:07,  1.51it/s]"
          ]
        },
        {
          "output_type": "stream",
          "name": "stdout",
          "text": [
            "❌ ISBN not found: 2120020723\n"
          ]
        },
        {
          "output_type": "stream",
          "name": "stderr",
          "text": [
            " 10%|█         | 61/609 [00:45<05:41,  1.60it/s]"
          ]
        },
        {
          "output_type": "stream",
          "name": "stdout",
          "text": [
            "❌ ISBN not found: 0973785776\n"
          ]
        },
        {
          "output_type": "stream",
          "name": "stderr",
          "text": [
            " 12%|█▏        | 75/609 [00:53<04:47,  1.86it/s]"
          ]
        },
        {
          "output_type": "stream",
          "name": "stdout",
          "text": [
            "❌ ISBN not found: 0403020100\n"
          ]
        },
        {
          "output_type": "stream",
          "name": "stderr",
          "text": [
            "\r 12%|█▏        | 76/609 [00:53<04:37,  1.92it/s]"
          ]
        },
        {
          "output_type": "stream",
          "name": "stdout",
          "text": [
            "❌ ISBN not found: 1357910864\n"
          ]
        },
        {
          "output_type": "stream",
          "name": "stderr",
          "text": [
            " 13%|█▎        | 79/609 [00:55<04:54,  1.80it/s]"
          ]
        },
        {
          "output_type": "stream",
          "name": "stdout",
          "text": [
            "❌ ISBN not found: 0000000212\n"
          ]
        },
        {
          "output_type": "stream",
          "name": "stderr",
          "text": [
            " 15%|█▍        | 90/609 [01:02<05:25,  1.59it/s]"
          ]
        },
        {
          "output_type": "stream",
          "name": "stdout",
          "text": [
            "❌ ISBN not found: 9780013667\n"
          ]
        },
        {
          "output_type": "stream",
          "name": "stderr",
          "text": [
            " 15%|█▌        | 94/609 [01:04<04:43,  1.81it/s]"
          ]
        },
        {
          "output_type": "stream",
          "name": "stdout",
          "text": [
            "❌ ISBN not found: 2021026812\n"
          ]
        },
        {
          "output_type": "stream",
          "name": "stderr",
          "text": [
            " 16%|█▌        | 96/609 [01:05<04:36,  1.86it/s]"
          ]
        },
        {
          "output_type": "stream",
          "name": "stdout",
          "text": [
            "❌ ISBN not found: 1474747211\n"
          ]
        },
        {
          "output_type": "stream",
          "name": "stderr",
          "text": [
            " 16%|█▋        | 100/609 [01:07<04:46,  1.77it/s]"
          ]
        },
        {
          "output_type": "stream",
          "name": "stdout",
          "text": [
            "❌ ISBN not found: 8008426796\n"
          ]
        },
        {
          "output_type": "stream",
          "name": "stderr",
          "text": [
            "\r 17%|█▋        | 101/609 [01:08<04:35,  1.84it/s]"
          ]
        },
        {
          "output_type": "stream",
          "name": "stdout",
          "text": [
            "❌ ISBN not found: 1773702770\n"
          ]
        },
        {
          "output_type": "stream",
          "name": "stderr",
          "text": [
            " 17%|█▋        | 104/609 [01:10<04:41,  1.80it/s]"
          ]
        },
        {
          "output_type": "stream",
          "name": "stdout",
          "text": [
            "❌ ISBN not found: 2015027123\n"
          ]
        },
        {
          "output_type": "stream",
          "name": "stderr",
          "text": [
            "\r 17%|█▋        | 105/609 [01:10<04:36,  1.82it/s]"
          ]
        },
        {
          "output_type": "stream",
          "name": "stdout",
          "text": [
            "❌ ISBN not found: 2015000491\n"
          ]
        },
        {
          "output_type": "stream",
          "name": "stderr",
          "text": [
            "\r 17%|█▋        | 106/609 [01:11<04:25,  1.89it/s]"
          ]
        },
        {
          "output_type": "stream",
          "name": "stdout",
          "text": [
            "❌ ISBN not found: 2018004646\n"
          ]
        },
        {
          "output_type": "stream",
          "name": "stderr",
          "text": [
            "\r 18%|█▊        | 107/609 [01:11<04:25,  1.89it/s]"
          ]
        },
        {
          "output_type": "stream",
          "name": "stdout",
          "text": [
            "❌ ISBN not found: 9781032375533\n"
          ]
        },
        {
          "output_type": "stream",
          "name": "stderr",
          "text": [
            "\r 18%|█▊        | 108/609 [01:12<04:23,  1.90it/s]"
          ]
        },
        {
          "output_type": "stream",
          "name": "stdout",
          "text": [
            "❌ ISBN not found: 2008021172\n"
          ]
        },
        {
          "output_type": "stream",
          "name": "stderr",
          "text": [
            " 18%|█▊        | 110/609 [01:13<04:14,  1.96it/s]"
          ]
        },
        {
          "output_type": "stream",
          "name": "stdout",
          "text": [
            "❌ ISBN not found: 2013038347\n"
          ]
        },
        {
          "output_type": "stream",
          "name": "stderr",
          "text": [
            " 20%|█▉        | 119/609 [01:18<04:27,  1.83it/s]"
          ]
        },
        {
          "output_type": "stream",
          "name": "stdout",
          "text": [
            "❌ ISBN not found: 1989978033\n"
          ]
        },
        {
          "output_type": "stream",
          "name": "stderr",
          "text": [
            " 20%|█▉        | 121/609 [01:19<04:25,  1.84it/s]"
          ]
        },
        {
          "output_type": "stream",
          "name": "stdout",
          "text": [
            "❌ ISBN not found: 3215116720\n"
          ]
        },
        {
          "output_type": "stream",
          "name": "stderr",
          "text": [
            " 20%|██        | 124/609 [01:21<04:19,  1.87it/s]"
          ]
        },
        {
          "output_type": "stream",
          "name": "stdout",
          "text": [
            "❌ ISBN not found: 2014978113\n"
          ]
        },
        {
          "output_type": "stream",
          "name": "stderr",
          "text": [
            " 21%|██        | 129/609 [01:24<04:43,  1.70it/s]"
          ]
        },
        {
          "output_type": "stream",
          "name": "stdout",
          "text": [
            "❌ ISBN not found: 3241988335\n"
          ]
        },
        {
          "output_type": "stream",
          "name": "stderr",
          "text": [
            " 22%|██▏       | 131/609 [01:25<04:47,  1.66it/s]"
          ]
        },
        {
          "output_type": "stream",
          "name": "stdout",
          "text": [
            "❌ ISBN not found: 9780714524405\n"
          ]
        },
        {
          "output_type": "stream",
          "name": "stderr",
          "text": [
            "\r 22%|██▏       | 132/609 [01:26<04:37,  1.72it/s]"
          ]
        },
        {
          "output_type": "stream",
          "name": "stdout",
          "text": [
            "❌ ISBN not found: 2016937257\n"
          ]
        },
        {
          "output_type": "stream",
          "name": "stderr",
          "text": [
            "\r 22%|██▏       | 133/609 [01:27<04:32,  1.75it/s]"
          ]
        },
        {
          "output_type": "stream",
          "name": "stdout",
          "text": [
            "❌ ISBN not found: 1979978033\n"
          ]
        },
        {
          "output_type": "stream",
          "name": "stderr",
          "text": [
            "\r 22%|██▏       | 134/609 [01:27<04:18,  1.83it/s]"
          ]
        },
        {
          "output_type": "stream",
          "name": "stdout",
          "text": [
            "❌ ISBN not found: 9781349205448\n"
          ]
        },
        {
          "output_type": "stream",
          "name": "stderr",
          "text": [
            " 23%|██▎       | 143/609 [01:33<05:20,  1.45it/s]"
          ]
        },
        {
          "output_type": "stream",
          "name": "stdout",
          "text": [
            "❌ ISBN not found: 1357910864\n"
          ]
        },
        {
          "output_type": "stream",
          "name": "stderr",
          "text": [
            "\r 24%|██▎       | 144/609 [01:33<04:53,  1.59it/s]"
          ]
        },
        {
          "output_type": "stream",
          "name": "stdout",
          "text": [
            "❌ ISBN not found: 9789951883528\n"
          ]
        },
        {
          "output_type": "stream",
          "name": "stderr",
          "text": [
            " 24%|██▍       | 146/609 [01:35<04:53,  1.58it/s]"
          ]
        },
        {
          "output_type": "stream",
          "name": "stdout",
          "text": [
            "❌ ISBN not found: 2015043510\n"
          ]
        },
        {
          "output_type": "stream",
          "name": "stderr",
          "text": [
            " 24%|██▍       | 149/609 [01:36<04:20,  1.77it/s]"
          ]
        },
        {
          "output_type": "stream",
          "name": "stdout",
          "text": [
            "❌ ISBN not found: 9781349071036\n"
          ]
        },
        {
          "output_type": "stream",
          "name": "stderr",
          "text": [
            " 26%|██▌       | 158/609 [01:43<04:55,  1.52it/s]"
          ]
        },
        {
          "output_type": "stream",
          "name": "stdout",
          "text": [
            "❌ ISBN not found: 2006924283\n"
          ]
        },
        {
          "output_type": "stream",
          "name": "stderr",
          "text": [
            " 27%|██▋       | 166/609 [01:49<04:24,  1.67it/s]"
          ]
        },
        {
          "output_type": "stream",
          "name": "stdout",
          "text": [
            "❌ ISBN not found: 1364252080\n"
          ]
        },
        {
          "output_type": "stream",
          "name": "stderr",
          "text": [
            " 29%|██▉       | 177/609 [01:55<03:50,  1.88it/s]"
          ]
        },
        {
          "output_type": "stream",
          "name": "stdout",
          "text": [
            "❌ ISBN not found: 1357910864\n"
          ]
        },
        {
          "output_type": "stream",
          "name": "stderr",
          "text": [
            " 30%|██▉       | 182/609 [01:58<03:41,  1.93it/s]"
          ]
        },
        {
          "output_type": "stream",
          "name": "stdout",
          "text": [
            "❌ ISBN not found: 2011927314\n"
          ]
        },
        {
          "output_type": "stream",
          "name": "stderr",
          "text": [
            " 32%|███▏      | 196/609 [02:06<03:51,  1.79it/s]"
          ]
        },
        {
          "output_type": "stream",
          "name": "stdout",
          "text": [
            "❌ ISBN not found: 1357910864\n"
          ]
        },
        {
          "output_type": "stream",
          "name": "stderr",
          "text": [
            " 33%|███▎      | 200/609 [02:08<03:34,  1.90it/s]"
          ]
        },
        {
          "output_type": "stream",
          "name": "stdout",
          "text": [
            "❌ ISBN not found: 3007211721\n"
          ]
        },
        {
          "output_type": "stream",
          "name": "stderr",
          "text": [
            "\r 33%|███▎      | 201/609 [02:09<03:30,  1.94it/s]"
          ]
        },
        {
          "output_type": "stream",
          "name": "stdout",
          "text": [
            "❌ ISBN not found: 2009024913\n"
          ]
        },
        {
          "output_type": "stream",
          "name": "stderr",
          "text": [
            " 33%|███▎      | 203/609 [02:10<03:30,  1.93it/s]"
          ]
        },
        {
          "output_type": "stream",
          "name": "stdout",
          "text": [
            "❌ ISBN not found: 1357910864\n"
          ]
        },
        {
          "output_type": "stream",
          "name": "stderr",
          "text": [
            " 36%|███▌      | 219/609 [02:22<04:31,  1.44it/s]"
          ]
        },
        {
          "output_type": "stream",
          "name": "stdout",
          "text": [
            "❌ ISBN not found: 9780071078122\n"
          ]
        },
        {
          "output_type": "stream",
          "name": "stderr",
          "text": [
            " 38%|███▊      | 230/609 [02:29<03:28,  1.82it/s]"
          ]
        },
        {
          "output_type": "stream",
          "name": "stdout",
          "text": [
            "❌ ISBN not found: 2008200720\n"
          ]
        },
        {
          "output_type": "stream",
          "name": "stderr",
          "text": [
            " 38%|███▊      | 234/609 [02:31<03:45,  1.66it/s]"
          ]
        },
        {
          "output_type": "stream",
          "name": "stdout",
          "text": [
            "❌ ISBN not found: 9789513949709\n"
          ]
        },
        {
          "output_type": "stream",
          "name": "stderr",
          "text": [
            "\r 39%|███▊      | 235/609 [02:32<03:32,  1.76it/s]"
          ]
        },
        {
          "output_type": "stream",
          "name": "stdout",
          "text": [
            "❌ ISBN not found: 9789513967383\n"
          ]
        },
        {
          "output_type": "stream",
          "name": "stderr",
          "text": [
            "\r 39%|███▉      | 236/609 [02:32<03:22,  1.84it/s]"
          ]
        },
        {
          "output_type": "stream",
          "name": "stdout",
          "text": [
            "❌ ISBN not found: 9789513958435\n"
          ]
        },
        {
          "output_type": "stream",
          "name": "stderr",
          "text": [
            " 39%|███▉      | 238/609 [02:33<03:24,  1.82it/s]"
          ]
        },
        {
          "output_type": "stream",
          "name": "stdout",
          "text": [
            "❌ ISBN not found: 9789220336922\n"
          ]
        },
        {
          "output_type": "stream",
          "name": "stderr",
          "text": [
            "\r 39%|███▉      | 239/609 [02:34<03:16,  1.88it/s]"
          ]
        },
        {
          "output_type": "stream",
          "name": "stdout",
          "text": [
            "❌ ISBN not found: 9789220336922\n"
          ]
        },
        {
          "output_type": "stream",
          "name": "stderr",
          "text": [
            "\r 39%|███▉      | 240/609 [02:34<03:10,  1.94it/s]"
          ]
        },
        {
          "output_type": "stream",
          "name": "stdout",
          "text": [
            "❌ ISBN not found: 9786077396673\n"
          ]
        },
        {
          "output_type": "stream",
          "name": "stderr",
          "text": [
            "\r 40%|███▉      | 241/609 [02:35<03:10,  1.93it/s]"
          ]
        },
        {
          "output_type": "stream",
          "name": "stdout",
          "text": [
            "❌ ISBN not found: 9781938027901\n"
          ]
        },
        {
          "output_type": "stream",
          "name": "stderr",
          "text": [
            " 41%|████▏     | 252/609 [02:41<03:18,  1.80it/s]"
          ]
        },
        {
          "output_type": "stream",
          "name": "stdout",
          "text": [
            "❌ ISBN not found: 0403020100\n"
          ]
        },
        {
          "output_type": "stream",
          "name": "stderr",
          "text": [
            " 42%|████▏     | 256/609 [02:44<03:26,  1.71it/s]"
          ]
        },
        {
          "output_type": "stream",
          "name": "stdout",
          "text": [
            "❌ ISBN not found: 2014945599\n"
          ]
        },
        {
          "output_type": "stream",
          "name": "stderr",
          "text": [
            "\r 42%|████▏     | 257/609 [02:44<03:17,  1.79it/s]"
          ]
        },
        {
          "output_type": "stream",
          "name": "stdout",
          "text": [
            "❌ ISBN not found: 2017028027\n"
          ]
        },
        {
          "output_type": "stream",
          "name": "stderr",
          "text": [
            "\r 42%|████▏     | 258/609 [02:45<03:10,  1.84it/s]"
          ]
        },
        {
          "output_type": "stream",
          "name": "stdout",
          "text": [
            "❌ ISBN not found: 9781786560629\n"
          ]
        },
        {
          "output_type": "stream",
          "name": "stderr",
          "text": [
            " 43%|████▎     | 260/609 [02:46<03:12,  1.81it/s]"
          ]
        },
        {
          "output_type": "stream",
          "name": "stdout",
          "text": [
            "❌ ISBN not found: 2020023568\n"
          ]
        },
        {
          "output_type": "stream",
          "name": "stderr",
          "text": [
            "\r 43%|████▎     | 261/609 [02:47<03:10,  1.83it/s]"
          ]
        },
        {
          "output_type": "stream",
          "name": "stdout",
          "text": [
            "❌ ISBN not found: 9789350021361\n"
          ]
        },
        {
          "output_type": "stream",
          "name": "stderr",
          "text": [
            " 43%|████▎     | 264/609 [02:49<04:01,  1.43it/s]"
          ]
        },
        {
          "output_type": "stream",
          "name": "stdout",
          "text": [
            "❌ ISBN not found: 9781786614438\n"
          ]
        },
        {
          "output_type": "stream",
          "name": "stderr",
          "text": [
            " 44%|████▍     | 270/609 [02:52<03:05,  1.82it/s]"
          ]
        },
        {
          "output_type": "stream",
          "name": "stdout",
          "text": [
            "❌ ISBN not found: 9031200182\n"
          ]
        },
        {
          "output_type": "stream",
          "name": "stderr",
          "text": [
            " 45%|████▍     | 273/609 [02:54<03:00,  1.86it/s]"
          ]
        },
        {
          "output_type": "stream",
          "name": "stdout",
          "text": [
            "❌ ISBN not found: 978904112537X\n"
          ]
        },
        {
          "output_type": "stream",
          "name": "stderr",
          "text": [
            " 46%|████▌     | 281/609 [02:59<03:37,  1.51it/s]"
          ]
        },
        {
          "output_type": "stream",
          "name": "stdout",
          "text": [
            "❌ ISBN not found: 4391992324\n"
          ]
        },
        {
          "output_type": "stream",
          "name": "stderr",
          "text": [
            " 47%|████▋     | 286/609 [03:02<03:12,  1.68it/s]"
          ]
        },
        {
          "output_type": "stream",
          "name": "stdout",
          "text": [
            "❌ ISBN not found: 2016948584\n"
          ]
        },
        {
          "output_type": "stream",
          "name": "stderr",
          "text": [
            " 47%|████▋     | 289/609 [03:05<03:50,  1.39it/s]"
          ]
        },
        {
          "output_type": "stream",
          "name": "stdout",
          "text": [
            "❌ ISBN not found: 1357910864\n"
          ]
        },
        {
          "output_type": "stream",
          "name": "stderr",
          "text": [
            "\r 48%|████▊     | 290/609 [03:05<03:28,  1.53it/s]"
          ]
        },
        {
          "output_type": "stream",
          "name": "stdout",
          "text": [
            "❌ ISBN not found: 9781844679027\n"
          ]
        },
        {
          "output_type": "stream",
          "name": "stderr",
          "text": [
            " 48%|████▊     | 292/609 [03:06<03:12,  1.64it/s]"
          ]
        },
        {
          "output_type": "stream",
          "name": "stdout",
          "text": [
            "❌ ISBN not found: 147800412X\n"
          ]
        },
        {
          "output_type": "stream",
          "name": "stderr",
          "text": [
            "\r 48%|████▊     | 293/609 [03:07<02:59,  1.76it/s]"
          ]
        },
        {
          "output_type": "stream",
          "name": "stdout",
          "text": [
            "❌ ISBN not found: 1357910864\n"
          ]
        },
        {
          "output_type": "stream",
          "name": "stderr",
          "text": [
            " 49%|████▉     | 300/609 [03:11<02:49,  1.82it/s]"
          ]
        },
        {
          "output_type": "stream",
          "name": "stdout",
          "text": [
            "❌ ISBN not found: 1773702770\n"
          ]
        },
        {
          "output_type": "stream",
          "name": "stderr",
          "text": [
            " 50%|████▉     | 304/609 [03:14<03:29,  1.46it/s]"
          ]
        },
        {
          "output_type": "stream",
          "name": "stdout",
          "text": [
            "❌ ISBN not found: 2019057561\n"
          ]
        },
        {
          "output_type": "stream",
          "name": "stderr",
          "text": [
            " 52%|█████▏    | 315/609 [03:21<02:46,  1.77it/s]"
          ]
        },
        {
          "output_type": "stream",
          "name": "stdout",
          "text": [
            "❌ ISBN not found: 1235465500\n"
          ]
        },
        {
          "output_type": "stream",
          "name": "stderr",
          "text": [
            "\r 52%|█████▏    | 316/609 [03:22<02:38,  1.85it/s]"
          ]
        },
        {
          "output_type": "stream",
          "name": "stdout",
          "text": [
            "❌ ISBN not found: 1773702770\n"
          ]
        },
        {
          "output_type": "stream",
          "name": "stderr",
          "text": [
            " 52%|█████▏    | 318/609 [03:23<02:33,  1.90it/s]"
          ]
        },
        {
          "output_type": "stream",
          "name": "stdout",
          "text": [
            "❌ ISBN not found: 147800408X\n"
          ]
        },
        {
          "output_type": "stream",
          "name": "stderr",
          "text": [
            " 53%|█████▎    | 322/609 [03:25<02:39,  1.80it/s]"
          ]
        },
        {
          "output_type": "stream",
          "name": "stdout",
          "text": [
            "❌ ISBN not found: 1350274495\n"
          ]
        },
        {
          "output_type": "stream",
          "name": "stderr",
          "text": [
            " 55%|█████▍    | 334/609 [03:33<03:10,  1.44it/s]"
          ]
        },
        {
          "output_type": "stream",
          "name": "stdout",
          "text": [
            "❌ ISBN not found: 1211101011\n"
          ]
        },
        {
          "output_type": "stream",
          "name": "stderr",
          "text": [
            " 55%|█████▌    | 336/609 [03:34<02:46,  1.64it/s]"
          ]
        },
        {
          "output_type": "stream",
          "name": "stdout",
          "text": [
            "❌ ISBN not found: 2022027728\n"
          ]
        },
        {
          "output_type": "stream",
          "name": "stderr",
          "text": [
            " 56%|█████▋    | 344/609 [03:40<02:54,  1.52it/s]"
          ]
        },
        {
          "output_type": "stream",
          "name": "stdout",
          "text": [
            "❌ ISBN not found: 0000000271\n"
          ]
        },
        {
          "output_type": "stream",
          "name": "stderr",
          "text": [
            " 57%|█████▋    | 349/609 [03:43<02:35,  1.67it/s]"
          ]
        },
        {
          "output_type": "stream",
          "name": "stdout",
          "text": [
            "❌ ISBN not found: 0000000336\n"
          ]
        },
        {
          "output_type": "stream",
          "name": "stderr",
          "text": [
            "\r 57%|█████▋    | 350/609 [03:44<02:28,  1.74it/s]"
          ]
        },
        {
          "output_type": "stream",
          "name": "stdout",
          "text": [
            "❌ ISBN not found: 1884840337\n"
          ]
        },
        {
          "output_type": "stream",
          "name": "stderr",
          "text": [
            "\r 58%|█████▊    | 351/609 [03:44<02:21,  1.82it/s]"
          ]
        },
        {
          "output_type": "stream",
          "name": "stdout",
          "text": [
            "❌ ISBN not found: 9781843921\n"
          ]
        },
        {
          "output_type": "stream",
          "name": "stderr",
          "text": [
            "\r 58%|█████▊    | 352/609 [03:45<02:20,  1.82it/s]"
          ]
        },
        {
          "output_type": "stream",
          "name": "stdout",
          "text": [
            "❌ ISBN not found: 2012039581\n"
          ]
        },
        {
          "output_type": "stream",
          "name": "stderr",
          "text": [
            " 59%|█████▉    | 361/609 [03:50<02:19,  1.78it/s]"
          ]
        },
        {
          "output_type": "stream",
          "name": "stdout",
          "text": [
            "❌ ISBN not found: 3319909043\n"
          ]
        },
        {
          "output_type": "stream",
          "name": "stderr",
          "text": [
            " 60%|█████▉    | 363/609 [03:52<02:22,  1.73it/s]"
          ]
        },
        {
          "output_type": "stream",
          "name": "stdout",
          "text": [
            "❌ ISBN not found: 1357910864\n"
          ]
        },
        {
          "output_type": "stream",
          "name": "stderr",
          "text": [
            " 61%|██████    | 369/609 [03:56<02:26,  1.63it/s]"
          ]
        },
        {
          "output_type": "stream",
          "name": "stdout",
          "text": [
            "❌ ISBN not found: 0100999897\n"
          ]
        },
        {
          "output_type": "stream",
          "name": "stderr",
          "text": [
            "\r 61%|██████    | 370/609 [03:56<02:24,  1.65it/s]"
          ]
        },
        {
          "output_type": "stream",
          "name": "stdout",
          "text": [
            "❌ ISBN not found: 2018030350\n"
          ]
        },
        {
          "output_type": "stream",
          "name": "stderr",
          "text": [
            "\r 61%|██████    | 371/609 [03:57<02:19,  1.71it/s]"
          ]
        },
        {
          "output_type": "stream",
          "name": "stdout",
          "text": [
            "❌ ISBN not found: 2320150032\n"
          ]
        },
        {
          "output_type": "stream",
          "name": "stderr",
          "text": [
            "\r 61%|██████    | 372/609 [03:57<02:15,  1.75it/s]"
          ]
        },
        {
          "output_type": "stream",
          "name": "stdout",
          "text": [
            "❌ ISBN not found: 1317840873\n"
          ]
        },
        {
          "output_type": "stream",
          "name": "stderr",
          "text": [
            " 62%|██████▏   | 376/609 [04:04<05:22,  1.38s/it]"
          ]
        },
        {
          "output_type": "stream",
          "name": "stdout",
          "text": [
            "❌ ISBN not found: 2014945599\n"
          ]
        },
        {
          "output_type": "stream",
          "name": "stderr",
          "text": [
            " 62%|██████▏   | 379/609 [04:05<03:11,  1.20it/s]"
          ]
        },
        {
          "output_type": "stream",
          "name": "stdout",
          "text": [
            "❌ ISBN not found: 0942791466\n"
          ]
        },
        {
          "output_type": "stream",
          "name": "stderr",
          "text": [
            "\r 62%|██████▏   | 380/609 [04:06<03:02,  1.26it/s]"
          ]
        },
        {
          "output_type": "stream",
          "name": "stdout",
          "text": [
            "❌ ISBN not found: 1357910864\n"
          ]
        },
        {
          "output_type": "stream",
          "name": "stderr",
          "text": [
            " 63%|██████▎   | 382/609 [04:07<02:31,  1.50it/s]"
          ]
        },
        {
          "output_type": "stream",
          "name": "stdout",
          "text": [
            "❌ ISBN not found: 2017940490\n"
          ]
        },
        {
          "output_type": "stream",
          "name": "stderr",
          "text": [
            "\r 63%|██████▎   | 383/609 [04:08<02:20,  1.61it/s]"
          ]
        },
        {
          "output_type": "stream",
          "name": "stdout",
          "text": [
            "❌ ISBN not found: 2014938940\n"
          ]
        },
        {
          "output_type": "stream",
          "name": "stderr",
          "text": [
            " 63%|██████▎   | 385/609 [04:09<02:09,  1.72it/s]"
          ]
        },
        {
          "output_type": "stream",
          "name": "stdout",
          "text": [
            "❌ ISBN not found: 1179545940\n"
          ]
        },
        {
          "output_type": "stream",
          "name": "stderr",
          "text": [
            " 64%|██████▍   | 390/609 [04:13<03:03,  1.19it/s]"
          ]
        },
        {
          "output_type": "stream",
          "name": "stdout",
          "text": [
            "❌ ISBN not found: 2013038347\n"
          ]
        },
        {
          "output_type": "stream",
          "name": "stderr",
          "text": [
            "\r 64%|██████▍   | 391/609 [04:13<02:43,  1.33it/s]"
          ]
        },
        {
          "output_type": "stream",
          "name": "stdout",
          "text": [
            "❌ ISBN not found: 1357910864\n"
          ]
        },
        {
          "output_type": "stream",
          "name": "stderr",
          "text": [
            " 67%|██████▋   | 408/609 [04:25<01:53,  1.77it/s]"
          ]
        },
        {
          "output_type": "stream",
          "name": "stdout",
          "text": [
            "❌ ISBN not found: 9781611684\n"
          ]
        },
        {
          "output_type": "stream",
          "name": "stderr",
          "text": [
            " 69%|██████▉   | 422/609 [04:35<01:55,  1.62it/s]"
          ]
        },
        {
          "output_type": "stream",
          "name": "stdout",
          "text": [
            "❌ ISBN not found: 2016023811\n"
          ]
        },
        {
          "output_type": "stream",
          "name": "stderr",
          "text": [
            " 71%|███████▏  | 435/609 [04:42<01:38,  1.76it/s]"
          ]
        },
        {
          "output_type": "stream",
          "name": "stdout",
          "text": [
            "❌ ISBN not found: 2013021658\n"
          ]
        },
        {
          "output_type": "stream",
          "name": "stderr",
          "text": [
            " 72%|███████▏  | 438/609 [04:44<01:37,  1.75it/s]"
          ]
        },
        {
          "output_type": "stream",
          "name": "stdout",
          "text": [
            "❌ ISBN not found: 0791402942\n"
          ]
        },
        {
          "output_type": "stream",
          "name": "stderr",
          "text": [
            " 73%|███████▎  | 446/609 [04:53<02:24,  1.13it/s]"
          ]
        },
        {
          "output_type": "stream",
          "name": "stdout",
          "text": [
            "❌ ISBN not found: 1173314054\n"
          ]
        },
        {
          "output_type": "stream",
          "name": "stderr",
          "text": [
            " 76%|███████▌  | 462/609 [05:02<01:25,  1.72it/s]"
          ]
        },
        {
          "output_type": "stream",
          "name": "stdout",
          "text": [
            "❌ ISBN not found: 0089232564\n"
          ]
        },
        {
          "output_type": "stream",
          "name": "stderr",
          "text": [
            " 76%|███████▌  | 464/609 [05:03<01:31,  1.59it/s]"
          ]
        },
        {
          "output_type": "stream",
          "name": "stdout",
          "text": [
            "❌ ISBN not found: 2220100228\n"
          ]
        },
        {
          "output_type": "stream",
          "name": "stderr",
          "text": [
            " 78%|███████▊  | 474/609 [05:10<01:20,  1.69it/s]"
          ]
        },
        {
          "output_type": "stream",
          "name": "stdout",
          "text": [
            "❌ ISBN not found: 9781851129\n"
          ]
        },
        {
          "output_type": "stream",
          "name": "stderr",
          "text": [
            " 79%|███████▊  | 479/609 [05:13<01:17,  1.69it/s]"
          ]
        },
        {
          "output_type": "stream",
          "name": "stdout",
          "text": [
            "❌ ISBN not found: 9780333751061\n"
          ]
        },
        {
          "output_type": "stream",
          "name": "stderr",
          "text": [
            "\r 79%|███████▉  | 480/609 [05:14<01:13,  1.75it/s]"
          ]
        },
        {
          "output_type": "stream",
          "name": "stdout",
          "text": [
            "❌ ISBN not found: 9700719079\n"
          ]
        },
        {
          "output_type": "stream",
          "name": "stderr",
          "text": [
            " 79%|███████▉  | 484/609 [05:16<01:08,  1.83it/s]"
          ]
        },
        {
          "output_type": "stream",
          "name": "stdout",
          "text": [
            "❌ ISBN not found: 9780719075\n"
          ]
        },
        {
          "output_type": "stream",
          "name": "stderr",
          "text": [
            " 81%|████████  | 493/609 [05:22<01:15,  1.54it/s]"
          ]
        },
        {
          "output_type": "stream",
          "name": "stdout",
          "text": [
            "❌ ISBN not found: 1844041680\n"
          ]
        },
        {
          "output_type": "stream",
          "name": "stderr",
          "text": [
            " 82%|████████▏ | 497/609 [05:24<01:03,  1.78it/s]"
          ]
        },
        {
          "output_type": "stream",
          "name": "stdout",
          "text": [
            "❌ ISBN not found: 0719070822\n"
          ]
        },
        {
          "output_type": "stream",
          "name": "stderr",
          "text": [
            " 84%|████████▎ | 509/609 [05:32<01:02,  1.61it/s]"
          ]
        },
        {
          "output_type": "stream",
          "name": "stdout",
          "text": [
            "❌ ISBN not found: 1007486240\n"
          ]
        },
        {
          "output_type": "stream",
          "name": "stderr",
          "text": [
            " 87%|████████▋ | 527/609 [05:44<00:59,  1.37it/s]"
          ]
        },
        {
          "output_type": "stream",
          "name": "stdout",
          "text": [
            "❌ ISBN not found: 2001046003\n"
          ]
        },
        {
          "output_type": "stream",
          "name": "stderr",
          "text": [
            " 87%|████████▋ | 532/609 [05:47<00:44,  1.75it/s]"
          ]
        },
        {
          "output_type": "stream",
          "name": "stdout",
          "text": [
            "❌ ISBN not found: 2018011178\n"
          ]
        },
        {
          "output_type": "stream",
          "name": "stderr",
          "text": [
            " 88%|████████▊ | 534/609 [05:48<00:40,  1.87it/s]"
          ]
        },
        {
          "output_type": "stream",
          "name": "stdout",
          "text": [
            "❌ ISBN not found: 2018004646\n"
          ]
        },
        {
          "output_type": "stream",
          "name": "stderr",
          "text": [
            " 89%|████████▉ | 545/609 [05:58<01:00,  1.07it/s]"
          ]
        },
        {
          "output_type": "stream",
          "name": "stdout",
          "text": [
            "❌ ISBN not found: 1173746645\n"
          ]
        },
        {
          "output_type": "stream",
          "name": "stderr",
          "text": [
            " 90%|█████████ | 551/609 [06:03<00:44,  1.31it/s]"
          ]
        },
        {
          "output_type": "stream",
          "name": "stdout",
          "text": [
            "❌ ISBN not found: 2013015909\n"
          ]
        },
        {
          "output_type": "stream",
          "name": "stderr",
          "text": [
            "\r 91%|█████████ | 552/609 [06:03<00:39,  1.43it/s]"
          ]
        }
      ]
    },
    {
      "cell_type": "code",
      "source": [
        "data = {'file': files, 'title': titles, 'authors': authors, 'year': years}\n",
        "df_meta_isbn = pd.DataFrame(data)"
      ],
      "metadata": {
        "colab": {
          "base_uri": "https://localhost:8080/"
        },
        "id": "p2Rz2TFlPBNo",
        "outputId": "4c98eb0f-d69a-4f09-e438-6edd15b1ae22"
      },
      "execution_count": 79,
      "outputs": [
        {
          "output_type": "stream",
          "name": "stdout",
          "text": [
            "                                                  file  \\\n",
            "0    <DirEntry 'History in the discursive condition...   \n",
            "1      <DirEntry 'Hobsbawm  History and Politics.pdf'>   \n",
            "2    <DirEntry 'At the Limits of History_ Essays on...   \n",
            "3    <DirEntry 'Historicizing Lifestyle_ Mediating ...   \n",
            "4    <DirEntry 'Industrialisation and society_ a so...   \n",
            "..                                                 ...   \n",
            "467  <DirEntry 'The ability to manage_ a study of B...   \n",
            "468  <DirEntry 'The afterlife of idealism  the impa...   \n",
            "469  <DirEntry 'The age of the automobile -- Perkin...   \n",
            "470  <DirEntry 'The age of the automobile -- Perkin...   \n",
            "471  <DirEntry 'The Ages of Voluntarism  How We Got...   \n",
            "\n",
            "                                                  meta  \n",
            "0    {'url': 'https://openlibrary.org/books/OL25972...  \n",
            "1    {'url': 'https://openlibrary.org/books/OL27682...  \n",
            "2    {'url': 'https://openlibrary.org/books/OL10204...  \n",
            "3    {'url': 'https://openlibrary.org/books/OL34137...  \n",
            "4    {'url': 'https://openlibrary.org/books/OL18111...  \n",
            "..                                                 ...  \n",
            "467  {'url': 'https://openlibrary.org/books/OL15626...  \n",
            "468  {'url': 'https://openlibrary.org/books/OL37257...  \n",
            "469  {'url': 'https://openlibrary.org/books/OL45928...  \n",
            "470  {'url': 'https://openlibrary.org/books/OL45928...  \n",
            "471  {'url': 'https://openlibrary.org/books/OL28472...  \n",
            "\n",
            "[472 rows x 2 columns]\n",
            "{'url': 'https://openlibrary.org/books/OL25972257M/History_In_The_Discursive_Condition_Reconsidering_The_Tools_Of_Thought', 'key': '/books/OL25972257M', 'title': 'History In The Discursive Condition Reconsidering The Tools Of Thought', 'authors': [{'url': 'https://openlibrary.org/authors/OL534784A/Elizabeth_Deeds_Ermarth', 'name': 'Elizabeth Deeds Ermarth'}], 'number_of_pages': 144, 'identifiers': {'isbn_13': ['9780415782197'], 'lccn': ['2010032552'], 'oclc': ['726740641', '658200263'], 'openlibrary': ['OL25972257M']}, 'classifications': {'lc_classifications': ['CB358.E75 2010', 'CB358 .E75 2011', 'CB358 .E75 2011eb']}, 'publishers': [{'name': 'Routledge'}], 'publish_date': '2011', 'subjects': [{'name': 'Civilization, modern', 'url': 'https://openlibrary.org/subjects/civilization,_modern'}, {'name': 'Postmodernism', 'url': 'https://openlibrary.org/subjects/postmodernism'}, {'name': 'Civilization, western', 'url': 'https://openlibrary.org/subjects/civilization,_western'}, {'name': 'Renaissance', 'url': 'https://openlibrary.org/subjects/renaissance'}, {'name': 'Social change', 'url': 'https://openlibrary.org/subjects/social_change'}, {'name': 'Language and culture', 'url': 'https://openlibrary.org/subjects/language_and_culture'}, {'name': 'Space and time', 'url': 'https://openlibrary.org/subjects/space_and_time'}, {'name': 'Europe, historiography', 'url': 'https://openlibrary.org/subjects/europe,_historiography'}, {'name': 'Humanities', 'url': 'https://openlibrary.org/subjects/humanities'}, {'name': 'Modern Civilization', 'url': 'https://openlibrary.org/subjects/modern_civilization'}, {'name': 'History', 'url': 'https://openlibrary.org/subjects/history'}, {'name': 'Western Civilization', 'url': 'https://openlibrary.org/subjects/western_civilization'}, {'name': 'Intellectual life', 'url': 'https://openlibrary.org/subjects/intellectual_life'}, {'name': 'Historiography', 'url': 'https://openlibrary.org/subjects/historiography'}, {'name': 'Postmodernisme', 'url': 'https://openlibrary.org/subjects/postmodernisme'}, {'name': 'Histoire', 'url': 'https://openlibrary.org/subjects/histoire'}, {'name': 'Civilisation occidentale', 'url': 'https://openlibrary.org/subjects/civilisation_occidentale'}, {'name': 'Vie intellectuelle', 'url': 'https://openlibrary.org/subjects/vie_intellectuelle'}, {'name': 'Langage et culture', 'url': 'https://openlibrary.org/subjects/langage_et_culture'}, {'name': 'Modern', 'url': 'https://openlibrary.org/subjects/modern'}, {'name': 'General', 'url': 'https://openlibrary.org/subjects/general'}, {'name': 'Social aspects', 'url': 'https://openlibrary.org/subjects/social_aspects'}, {'name': 'Geschichtsphilosophie', 'url': 'https://openlibrary.org/subjects/geschichtsphilosophie'}, {'name': 'Postmoderne', 'url': 'https://openlibrary.org/subjects/postmoderne'}, {'name': 'Sprachphilosophie', 'url': 'https://openlibrary.org/subjects/sprachphilosophie'}, {'name': 'Historiefilosofi', 'url': 'https://openlibrary.org/subjects/historiefilosofi'}, {'name': 'Idé- och lärdomshistoria', 'url': 'https://openlibrary.org/subjects/idé-_och_lärdomshistoria'}, {'name': 'Europe, intellectual life', 'url': 'https://openlibrary.org/subjects/europe,_intellectual_life'}], 'ebooks': [{'preview_url': 'https://archive.org/details/historyindiscurs0000erma', 'availability': 'restricted', 'formats': {}}], 'cover': {'small': 'https://covers.openlibrary.org/b/id/7486740-S.jpg', 'medium': 'https://covers.openlibrary.org/b/id/7486740-M.jpg', 'large': 'https://covers.openlibrary.org/b/id/7486740-L.jpg'}}\n"
          ]
        }
      ]
    },
    {
      "cell_type": "code",
      "source": [
        "import requests\n",
        "import tqdm\n",
        "\n",
        "def get_crossref_metadata(doi):\n",
        "    url = f\"https://api.crossref.org/works/{doi}\"\n",
        "    headers = {\"User-Agent\": \"citation-scraper/1.0 (mailto:thomasocompton@outlook.com)\"}\n",
        "    r = requests.get(url, headers=headers)\n",
        "    if r.status_code == 200:\n",
        "        try:\n",
        "            return r.json()[\"message\"]\n",
        "        except Exception as e:\n",
        "            print(f\"⚠️ Failed to parse Crossref response for {doi}: {e}\")\n",
        "            return None\n",
        "    else:\n",
        "        print(f\"❌ DOI not found: {doi}\")\n",
        "        return None\n",
        "import pandas as pd\n",
        "from time import sleep\n",
        "\n",
        "citation_records = []\n",
        "from time import sleep\n",
        "def clean_doi(doi):\n",
        "    # Remove common junk\n",
        "    doi = doi.strip()\n",
        "    doi = doi.replace(\"https://doi.org/\", \"\")\n",
        "    doi = doi.replace(\"http://doi.org/\", \"\")\n",
        "    doi = doi.split()[0]  # drop anything after whitespace\n",
        "    doi = doi.split(\"https://\")[0]  # if DOI is followed by full URL\n",
        "    doi = doi.split(\"doi.org/\")[-1]  # fallback if DOI embedded\n",
        "    doi = re.sub(r\"[^a-zA-Z0-9./]\", \"\", doi)  # strip invalid chars\n",
        "    return doi\n",
        "\n",
        "\n",
        "for i in tqdm(range(len(df_dois))):\n",
        "    doi = clean_doi(df_dois['doi'].iloc[i])\n",
        "    meta = get_crossref_metadata(doi)\n",
        "    if meta:\n",
        "      title, authors, year = meta.get(\"title\", \"\"), meta.get(\"authors\", []), meta.get(\"publish_date\", \"\")\n",
        "      titles.append(title)\n",
        "      authors.append(authors)\n",
        "      years.append(year)\n",
        "      files.append(df_dois['file'].iloc[i])\n",
        "      sleep(0.2)\n",
        "\n",
        "\n",
        "data = {'file': files, 'title': titles, 'authors': authors, 'year': years}\n",
        "df_meta_crossref = pd.DataFrame(data)"
      ],
      "metadata": {
        "colab": {
          "base_uri": "https://localhost:8080/",
          "height": 211
        },
        "id": "p-F-Yc8xv3G9",
        "outputId": "27ed470c-5b4e-435a-ad24-03c9c4e5d1a9"
      },
      "execution_count": 87,
      "outputs": [
        {
          "output_type": "error",
          "ename": "TypeError",
          "evalue": "'module' object is not callable",
          "traceback": [
            "\u001b[0;31m---------------------------------------------------------------------------\u001b[0m",
            "\u001b[0;31mTypeError\u001b[0m                                 Traceback (most recent call last)",
            "\u001b[0;32m<ipython-input-87-aa9ea47bf68e>\u001b[0m in \u001b[0;36m<cell line: 0>\u001b[0;34m()\u001b[0m\n\u001b[1;32m     28\u001b[0m \u001b[0mcitation_records\u001b[0m \u001b[0;34m=\u001b[0m \u001b[0;34m[\u001b[0m\u001b[0;34m]\u001b[0m\u001b[0;34m\u001b[0m\u001b[0;34m\u001b[0m\u001b[0m\n\u001b[1;32m     29\u001b[0m \u001b[0;34m\u001b[0m\u001b[0m\n\u001b[0;32m---> 30\u001b[0;31m \u001b[0;32mfor\u001b[0m \u001b[0mi\u001b[0m \u001b[0;32min\u001b[0m \u001b[0mtqdm\u001b[0m\u001b[0;34m(\u001b[0m\u001b[0mrange\u001b[0m\u001b[0;34m(\u001b[0m\u001b[0mlen\u001b[0m\u001b[0;34m(\u001b[0m\u001b[0mdf_dois\u001b[0m\u001b[0;34m)\u001b[0m\u001b[0;34m)\u001b[0m\u001b[0;34m)\u001b[0m\u001b[0;34m:\u001b[0m\u001b[0;34m\u001b[0m\u001b[0;34m\u001b[0m\u001b[0m\n\u001b[0m\u001b[1;32m     31\u001b[0m     \u001b[0mmeta\u001b[0m \u001b[0;34m=\u001b[0m \u001b[0mget_crossref_metadata\u001b[0m\u001b[0;34m(\u001b[0m\u001b[0mdf_dois\u001b[0m\u001b[0;34m[\u001b[0m\u001b[0;34m'doi'\u001b[0m\u001b[0;34m]\u001b[0m\u001b[0;34m.\u001b[0m\u001b[0miloc\u001b[0m\u001b[0;34m[\u001b[0m\u001b[0mi\u001b[0m\u001b[0;34m]\u001b[0m\u001b[0;34m)\u001b[0m\u001b[0;34m\u001b[0m\u001b[0;34m\u001b[0m\u001b[0m\n\u001b[1;32m     32\u001b[0m     \u001b[0;32mif\u001b[0m \u001b[0mmeta\u001b[0m\u001b[0;34m:\u001b[0m\u001b[0;34m\u001b[0m\u001b[0;34m\u001b[0m\u001b[0m\n",
            "\u001b[0;31mTypeError\u001b[0m: 'module' object is not callable"
          ]
        }
      ]
    },
    {
      "cell_type": "code",
      "source": [
        "df_citations = pd.concat([df_meta_crossref, df_meta_jstor, df_meta_isbn])\n",
        "print(df_citations)"
      ],
      "metadata": {
        "id": "nV6uzK27KeOb"
      },
      "execution_count": null,
      "outputs": []
    }
  ],
  "metadata": {
    "colab": {
      "provenance": []
    },
    "kernelspec": {
      "display_name": "Python 3",
      "name": "python3"
    },
    "language_info": {
      "name": "python"
    }
  },
  "nbformat": 4,
  "nbformat_minor": 0
}